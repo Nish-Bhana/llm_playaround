{
 "cells": [
  {
   "cell_type": "markdown",
   "metadata": {},
   "source": [
    "# Understanding and using LLMs"
   ]
  },
  {
   "cell_type": "markdown",
   "metadata": {},
   "source": [
    "### Intro\n",
    "\n",
    "- Typically there are 3 ways people can interact with LLMs.\n",
    "    - Making your own from scratch (collecting data, deinfing architecture, training model,...)\n",
    "    - Making use of those made by others (either people or organisations)\n",
    "    - Hybrid of the two (e.g \"building ontop\" of a new model)\n",
    "- We will primarily focus on working with ready made LLMs **_however_** will touch more granular code in certain places to help explain how the components work under the hood.\n",
    "    - We will draw heavy inspiration from the code provided in this [notebook](https://colab.research.google.com/github/neelnanda-io/Easy-Transformer/blob/clean-transformer-demo/Clean_Transformer_Demo.ipynb#scrollTo=EDlMEk0LVcdy) for implementing the granular code.\n",
    "    - Ultimately you can also start from pre-existing models and then make your own ontop of those.\n",
    "- Good questions raised during the my last talk:\n",
    "    - What do you do if you want to build models in not so common languages?"
   ]
  },
  {
   "cell_type": "markdown",
   "metadata": {},
   "source": [
    "### Glossary\n",
    "\n",
    "#### Einops\n",
    "\n",
    "[Einops](https://einops.rocks/) is a great python library for performing tensor operations in a reliable way. It has good integration with a bunch of other deep learning frameworks.\n",
    "\n",
    "- Einops is great as it makes tensor manipulation much easier which typically can be error prone (at least for me...) for me this is largely due to it's interface.\n",
    "- Foundations come from einstein's summation notation (those you studied physics might have come across it before).\n",
    "- Here is a [great post](https://rockt.github.io/2018/04/30/einsum) which goes over the background theory.\n",
    "\n",
    "\n",
    "#### Dataclasses\n",
    "\n",
    "Python's dataclasses module, introduced in Python 3.7, is a powerful tool for creating classes that primarily store data. Here's a summary of when to use it and how to apply it:\n",
    "\n",
    "- When to Consider Using dataclasses\n",
    "    - **Simplifying Class Definitions**: Use dataclasses when you need classes that mainly store data and you want to reduce boilerplate code. They're ideal for classes where you would traditionally write numerous __init__, __repr__, __eq__, and other dunder methods manually.\n",
    "    - **Immutable Data Structures**: If you need immutable data structures (similar to tuples), dataclasses with frozen parameters can be a good choice.\n",
    "    - **Comparing Object Instances**: They are useful when you need to compare instances based on their content rather than their identity in memory.\n",
    "    - **Lightweight Data Storage**: Ideal for classes that will be used to store data and not much else, especially when you need a clear and concise representation of the data structure.\n",
    "- How do use:\n",
    "    - **Decorate your class:** Use `@dataclass` around your class, can define data as class attributes.\n",
    "\n",
    "Example:\n",
    "```py\n",
    "@dataclass\n",
    "class MyClass:\n",
    "    field1: int\n",
    "    field2: str\n",
    "    field3: float = 0.0\n",
    "```\n",
    "\n",
    "#### Pytorch Primer\n",
    "\n",
    "For our purposes we can think of PyTorch as acting as the main library/framework which contains all the necessary tools for us to work with Deep Learning techniques (in particular building our model).\n",
    "\n",
    "PyTorch itself has so much information that it would be a standalone course in and of itself to get familiar with it. I highly suggest checking out the following [PyTorch Video course](https://youtu.be/V_xro1bcAuA?si=0eKJOeg86RGTCwMq) to get a solid foundational understanding.\n",
    "\n",
    "For our purposes I have added a few points below which showcases what things are.\n",
    "\n",
    "| PyTorch functionality | What does it do?|\n",
    "|---|---|\n",
    "|torch.nn\t| Contains all of the building blocks for computational graphs (essentially a series of computations executed in a particular way).|\n",
    "|torch.nn.Parameter\t| Stores tensors that can be used with nn.Module. If requires_grad=True gradients (used for updating model parameters via gradient descent) are calculated automatically, this is often referred to as \"autograd\".|\n",
    "|torch.nn.Module | The base class for all neural network modules, all the building blocks for neural networks are subclasses. If you're building a neural network in PyTorch, your models should subclass nn.Module. Requires a forward() method be implemented.|\n",
    "|torch.optim\t| Contains various optimization algorithms (these tell the model parameters stored in nn.Parameter how to best change to improve gradient descent and in turn reduce the loss).|\n",
    "| def forward()\t| All nn.Module subclasses require a forward() method, this defines the computation that will take place on the data passed to the particular nn.Module (e.g. the linear regression formula above).|"
   ]
  },
  {
   "cell_type": "markdown",
   "metadata": {},
   "source": [
    "### Understanding components of LLMs\n",
    "\n",
    "- Here we will be looking at various components of the transformer and how you can go about implementing them.\n",
    "    - Particular focus is on GPT-2 based transformer architecture as highlighted in the above note.\n",
    "    - Though generally ideas are transferable."
   ]
  },
  {
   "cell_type": "code",
   "execution_count": 1,
   "metadata": {},
   "outputs": [],
   "source": [
    "# Defining important libraries\n",
    "import einops\n",
    "from fancy_einsum import einsum\n",
    "from dataclasses import dataclass\n",
    "import torch\n",
    "import torch.nn as nn\n",
    "import numpy as np\n",
    "import math\n",
    "import tqdm.auto as tqdm\n",
    "import circuitsvis as cv\n",
    "import transformer_lens\n",
    "from transformer_lens import utils"
   ]
  },
  {
   "cell_type": "code",
   "execution_count": 2,
   "metadata": {},
   "outputs": [
    {
     "name": "stdout",
     "output_type": "stream",
     "text": [
      "Config(d_model=768, debug=True, layer_norm_eps=1e-05, d_vocab=50257, init_range=0.02, n_ctx=1024, d_head=64, d_mlp=3072, n_heads=12, n_layers=12)\n"
     ]
    }
   ],
   "source": [
    "# We make use of dataclasses so that we don't have to define a separate config when working inside a notebook\n",
    "@dataclass\n",
    "class Config:\n",
    "    d_model: int = 768\n",
    "    debug: bool = True\n",
    "    layer_norm_eps: float = 1e-5\n",
    "    d_vocab: int = 50257\n",
    "    init_range: float = 0.02\n",
    "    n_ctx: int = 1024\n",
    "    d_head: int = 64\n",
    "    d_mlp: int = 3072\n",
    "    n_heads: int = 12\n",
    "    n_layers: int = 12\n",
    "\n",
    "cfg = Config()\n",
    "print(cfg)"
   ]
  },
  {
   "cell_type": "markdown",
   "metadata": {},
   "source": [
    "### Attention\n",
    "<img src=\"../data/images/attention_head.png\" alt=\"Attention Head\" width=\"400\"/>\n",
    "<img src=\"../data/images/multi_head_attention.png\" alt=\"Multi-Attention Heads\" width=\"400\"/>\n",
    "<img src=\"../data/images/causal_mask.png\" alt=\"Causal Mask\" width=\"400\"/>\n",
    "\n",
    "- What is attention? In particular the mechanism \n",
    "    - Remember the attention mechanism is all about learning efficient representations for your text.\n",
    "        - To do so it leverages the idea of *dot products* to create a similarity measure between your tokens $q \\times k^{T}$\n",
    "        - You can then generatate an *attention pattern/score* for each token (destination pos / query) which acts as a probability distribution over prior source tokens (keys).\n",
    "        - The values of the distribution then act as weights to decide on how much information to copy over \n",
    "        $\\text{softmax}(\\frac{q k^T}{\\sqrt{d_k}})$\n",
    "    - A another way of thinking about it is that attention is essentially *moving information between token positions* e.g from source positions (keys) to destination positions (queries)\n",
    "        - This moving in done in such a way to maximize the relevant information that is contained at each token position as per the relation between that token and all others that are *causally prior* to it in the case of GPT based models.\n",
    "    - This is the only part of the transformer which moves information between positions.\n",
    "- Why do you have multi-attention heads?\n",
    "    - Each head is meant to independently learn representations of your text (each has it's own set of parameters i.e weight matricies)\n",
    "    - You can then efficiently combine the knowledge learned by those heads to in theory gain a better understanding\n",
    "        - As the saying goes \"two-eyes are better than one\"\n",
    "    - Some cool maths can show that concatenating the heads outputs together is equivalent of linearly adding each output to the residual stream\n",
    "    - You generally find that the output dimension of the heads are smaller than the residual stream width e.g $\\frac{d_{model}}{d_{head}} = n_{heads}$"
   ]
  },
  {
   "cell_type": "code",
   "execution_count": 3,
   "metadata": {},
   "outputs": [],
   "source": [
    "class Attention(nn.Module):\n",
    "    def __init__(self, cfg):\n",
    "        super().__init__()\n",
    "        self.cfg = cfg\n",
    "        self.W_Q = nn.Parameter(torch.empty((cfg.n_heads, cfg.d_model, cfg.d_head)))\n",
    "        nn.init.normal_(self.W_Q, std=self.cfg.init_range)\n",
    "        self.b_Q = nn.Parameter(torch.zeros((cfg.n_heads, cfg.d_head)))\n",
    "        self.W_K = nn.Parameter(torch.empty((cfg.n_heads, cfg.d_model, cfg.d_head)))\n",
    "        nn.init.normal_(self.W_K, std=self.cfg.init_range)\n",
    "        self.b_K = nn.Parameter(torch.zeros((cfg.n_heads, cfg.d_head)))\n",
    "        self.W_V = nn.Parameter(torch.empty((cfg.n_heads, cfg.d_model, cfg.d_head)))\n",
    "        nn.init.normal_(self.W_V, std=self.cfg.init_range)\n",
    "        self.b_V = nn.Parameter(torch.zeros((cfg.n_heads, cfg.d_head)))\n",
    "        \n",
    "        self.W_O = nn.Parameter(torch.empty((cfg.n_heads, cfg.d_head, cfg.d_model)))\n",
    "        nn.init.normal_(self.W_O, std=self.cfg.init_range)\n",
    "        self.b_O = nn.Parameter(torch.zeros((cfg.d_model)))\n",
    "        \n",
    "        self.register_buffer(\"IGNORE\", torch.tensor(-1e5, dtype=torch.float32, device=\"cpu\"))\n",
    "    \n",
    "    def forward(self, normalized_resid_pre):\n",
    "        # normalized_resid_pre: [batch, position, d_model]\n",
    "        if self.cfg.debug: print(\"Normalized_resid_pre:\", normalized_resid_pre.shape)\n",
    "        \n",
    "        q = einsum(\"batch query_pos d_model, n_heads d_model d_head -> batch query_pos n_heads d_head\", normalized_resid_pre, self.W_Q) + self.b_Q\n",
    "        k = einsum(\"batch key_pos d_model, n_heads d_model d_head -> batch key_pos n_heads d_head\", normalized_resid_pre, self.W_K) + self.b_K\n",
    "        \n",
    "        attn_scores = einsum(\"batch query_pos n_heads d_head, batch key_pos n_heads d_head -> batch n_heads query_pos key_pos\", q, k)\n",
    "        attn_scores = attn_scores / math.sqrt(self.cfg.d_head)\n",
    "        attn_scores = self.apply_causal_mask(attn_scores)\n",
    "\n",
    "        pattern = attn_scores.softmax(dim=-1) # [batch, n_head, query_pos, key_pos]\n",
    "\n",
    "        v = einsum(\"batch key_pos d_model, n_heads d_model d_head -> batch key_pos n_heads d_head\", normalized_resid_pre, self.W_V) + self.b_V\n",
    "\n",
    "        z = einsum(\"batch n_heads query_pos key_pos, batch key_pos n_heads d_head -> batch query_pos n_heads d_head\", pattern, v)\n",
    "\n",
    "        attn_out = einsum(\"batch query_pos n_heads d_head, n_heads d_head d_model -> batch query_pos d_model\", z, self.W_O) + self.b_O\n",
    "        return attn_out\n",
    "\n",
    "    def apply_causal_mask(self, attn_scores):\n",
    "        # attn_scores: [batch, n_heads, query_pos, key_pos]\n",
    "        mask = torch.triu(torch.ones(attn_scores.size(-2), attn_scores.size(-1), device=attn_scores.device), diagonal=1).bool()\n",
    "        attn_scores.masked_fill_(mask, self.IGNORE)\n",
    "        return attn_scores"
   ]
  },
  {
   "cell_type": "markdown",
   "metadata": {},
   "source": [
    "### LayerNorm\n",
    "\n",
    "- This normalises (or should I say standardises) the inputs so that they have a mean of 0 and variance of 1.\n",
    "- This acts across the $d_{model}$ dimension"
   ]
  },
  {
   "cell_type": "code",
   "execution_count": 4,
   "metadata": {},
   "outputs": [],
   "source": [
    "class LayerNorm(nn.Module):\n",
    "    def __init__(self, cfg):\n",
    "        super().__init__()\n",
    "        self.cfg = cfg\n",
    "        self.w = nn.Parameter(torch.ones(cfg.d_model))\n",
    "        self.b = nn.Parameter(torch.zeros(cfg.d_model))\n",
    "    \n",
    "    def forward(self, residual):\n",
    "        # residual: [batch, position, d_model]\n",
    "        if self.cfg.debug: print(\"Residual:\", residual.shape)\n",
    "        residual = residual - einops.reduce(residual, \"batch position d_model -> batch position 1\", \"mean\")\n",
    "        # Calculate the variance, square root it. Add in an epsilon to prevent divide by zero.\n",
    "        scale = (einops.reduce(residual.pow(2), \"batch position d_model -> batch position 1\", \"mean\") + cfg.layer_norm_eps).sqrt()\n",
    "        normalized = residual / scale\n",
    "        normalized = normalized * self.w + self.b\n",
    "        if self.cfg.debug: print(\"Normalized:\", residual.shape)\n",
    "        return normalized"
   ]
  },
  {
   "cell_type": "markdown",
   "metadata": {},
   "source": [
    "### Feedforword Network (MLP)\n",
    "\n",
    "<img src=\"../data/images/feedforward_layer.png\" alt=\"Feedforward (MLP) Layer\" width=\"400\"/>\n",
    "\n",
    "- This layer typically contains a single hidden layer\n",
    "    - Intuitively it's just a standard mlp layer which is meant to move information forward through the network\n",
    "- Mathematically it's just applying a linear map --> activation function --> linear map\n",
    "    - Activation function typically gelu for GPT based transformer\n",
    "- In my diagrams I refer to $d_{E} = d_{model}$ which is the residual stream size and in practice it's observed that $\\frac{d_{mlp}}{d_{model}} \\approx 4$\n",
    "    - Main thing to note the ratio is $\\geq 1$"
   ]
  },
  {
   "cell_type": "code",
   "execution_count": 5,
   "metadata": {},
   "outputs": [],
   "source": [
    "class FeedForwardLayer(nn.Module):\n",
    "    def __init__(self, cfg):\n",
    "        super().__init__()\n",
    "        self.cfg = cfg\n",
    "        self.W_in = nn.Parameter(torch.empty((cfg.d_model, cfg.d_mlp)))\n",
    "        nn.init.normal_(self.W_in, std=self.cfg.init_range)\n",
    "        self.b_in = nn.Parameter(torch.zeros((cfg.d_mlp)))\n",
    "        self.W_out = nn.Parameter(torch.empty((cfg.d_mlp, cfg.d_model)))\n",
    "        nn.init.normal_(self.W_out, std=self.cfg.init_range)\n",
    "        self.b_out = nn.Parameter(torch.zeros((cfg.d_model)))\n",
    "        self.gelu = nn.GELU()\n",
    "    \n",
    "    def forward(self, normalized_resid_mid):\n",
    "        # normalized_resid_mid: [batch, position, d_model]\n",
    "        if self.cfg.debug: print(\"Normalized_resid_mid:\", normalized_resid_mid.shape)\n",
    "        pre = einsum(\"batch position d_model, d_model d_mlp -> batch position d_mlp\", normalized_resid_mid, self.W_in) + self.b_in\n",
    "        post = self.gelu(pre)\n",
    "        mlp_out = einsum(\"batch position d_mlp, d_mlp d_model -> batch position d_model\", post, self.W_out) + self.b_out\n",
    "        return mlp_out"
   ]
  },
  {
   "cell_type": "markdown",
   "metadata": {},
   "source": [
    "### Token Embedding\n"
   ]
  },
  {
   "cell_type": "code",
   "execution_count": 6,
   "metadata": {},
   "outputs": [],
   "source": [
    "class Embed(nn.Module):\n",
    "    def __init__(self, cfg):\n",
    "        super().__init__()\n",
    "        self.cfg = cfg\n",
    "        self.W_E = nn.Parameter(torch.empty((cfg.d_vocab, cfg.d_model)))\n",
    "        nn.init.normal_(self.W_E, std=self.cfg.init_range)\n",
    "    \n",
    "    def forward(self, tokens):\n",
    "        # tokens: [batch, position]\n",
    "        if self.cfg.debug: print(\"Tokens:\", tokens.shape)\n",
    "        embed = self.W_E[tokens, :] # [batch, position, d_model]\n",
    "        if self.cfg.debug: print(\"Embeddings:\", embed.shape)\n",
    "        return embed"
   ]
  },
  {
   "cell_type": "markdown",
   "metadata": {},
   "source": [
    "### Positional Embedding\n",
    "\n",
    "- Interestingly the attention mechanism is symmetric about token position.\n",
    "    - No way of knowing that token 1 (source pos) comes prior to token 2 (source pos) relative to token 3 (dest pos)\n",
    "- This is problematic since attention itself moves information from source token positions to destination positions seemingly without knowing about position\n",
    "    - This fundamentally implies the process is flawed.\n",
    "- This is where positional embeddings come in!\n",
    "    - They provide a solution to this problem by *encoding* positional information about token positions into a vector format which can be added to the existing token embeddings.\n",
    "    - This process occurs prior to attention that way attention can use knowledge about position even if it doesn't do it itself!"
   ]
  },
  {
   "cell_type": "code",
   "execution_count": 7,
   "metadata": {},
   "outputs": [],
   "source": [
    "class PosEmbed(nn.Module):\n",
    "    def __init__(self, cfg):\n",
    "        super().__init__()\n",
    "        self.cfg = cfg\n",
    "        self.W_pos = nn.Parameter(torch.empty((cfg.n_ctx, cfg.d_model)))\n",
    "        nn.init.normal_(self.W_pos, std=self.cfg.init_range)\n",
    "    \n",
    "    def forward(self, tokens):\n",
    "        # tokens: [batch, position]\n",
    "        if self.cfg.debug: print(\"Tokens:\", tokens.shape)\n",
    "        pos_embed = self.W_pos[:tokens.size(1), :] # [position, d_model]\n",
    "        pos_embed = einops.repeat(pos_embed, \"position d_model -> batch position d_model\", batch=tokens.size(0))\n",
    "        if self.cfg.debug: print(\"pos_embed:\", pos_embed.shape)\n",
    "        return pos_embed"
   ]
  },
  {
   "cell_type": "markdown",
   "metadata": {},
   "source": [
    "### Transformer Block\n",
    "\n",
    "<img src=\"../data/images/transformer_block.png\" alt=\"Showing the Transformer Block\" width=\"400\"/>\n",
    "\n",
    "- This packages together all the other components\n",
    "    - This main components of the block are sometimes referred to as *sub-layers* (attention and feedforward layers).\n",
    "- Typically if someone says \"this transformer has $N$ layers\" this means it has $N$ transformer block's and therefore \"$2N$ sub-layers\""
   ]
  },
  {
   "cell_type": "code",
   "execution_count": 8,
   "metadata": {},
   "outputs": [],
   "source": [
    "class TransformerBlock(nn.Module):\n",
    "    def __init__(self, cfg):\n",
    "        super().__init__()\n",
    "        self.cfg = cfg\n",
    "\n",
    "        self.ln1 = LayerNorm(cfg)\n",
    "        self.attn = Attention(cfg)\n",
    "        self.ln2 = LayerNorm(cfg)\n",
    "        self.mlp = FeedForwardLayer(cfg)\n",
    "    \n",
    "    def forward(self, resid_pre):\n",
    "        # resid_pre [batch, position, d_model]\n",
    "        normalized_resid_pre = self.ln1(resid_pre)\n",
    "        attn_out = self.attn(normalized_resid_pre)\n",
    "        resid_mid = resid_pre + attn_out\n",
    "        \n",
    "        normalized_resid_mid = self.ln2(resid_mid)\n",
    "        mlp_out = self.mlp(normalized_resid_mid)\n",
    "        resid_post = resid_mid + mlp_out\n",
    "        return resid_post"
   ]
  },
  {
   "cell_type": "markdown",
   "metadata": {},
   "source": [
    "### Un-embedding Layer\n",
    "\n",
    "- Just the final layer which maps you from your internal residual stream dimension back to the vocab dimension\n",
    "- From this you can softmax over the vocab dimensional logits and subsequently sample from it giving you your generative abilities!"
   ]
  },
  {
   "cell_type": "code",
   "execution_count": 9,
   "metadata": {},
   "outputs": [],
   "source": [
    "class Unembed(nn.Module):\n",
    "    def __init__(self, cfg):\n",
    "        super().__init__()\n",
    "        self.cfg = cfg\n",
    "        self.W_U = nn.Parameter(torch.empty((cfg.d_model, cfg.d_vocab)))\n",
    "        nn.init.normal_(self.W_U, std=self.cfg.init_range)\n",
    "        self.b_U = nn.Parameter(torch.zeros((cfg.d_vocab), requires_grad=False))\n",
    "    \n",
    "    def forward(self, normalized_resid_final):\n",
    "        # normalized_resid_final [batch, position, d_model]\n",
    "        if self.cfg.debug: print(\"Normalized_resid_final:\", normalized_resid_final.shape)\n",
    "        logits = einsum(\"batch position d_model, d_model d_vocab -> batch position d_vocab\", normalized_resid_final, self.W_U) + self.b_U\n",
    "        return logits"
   ]
  },
  {
   "cell_type": "markdown",
   "metadata": {},
   "source": [
    "### Full-Transformer\n",
    "\n",
    "<img src=\"../data/images/decoder_transformer.png\" alt=\"Showing the full Transformer\" width=\"400\"/>\n",
    "\n",
    "- Now you can combine everything together\n",
    "    - Can decide on how many blocks you want and then weave everything together in the order shown in the architecture diagrams"
   ]
  },
  {
   "cell_type": "code",
   "execution_count": 10,
   "metadata": {},
   "outputs": [],
   "source": [
    "class GPT2Model(nn.Module):\n",
    "    def __init__(self, cfg):\n",
    "        super().__init__()\n",
    "        self.cfg = cfg\n",
    "        self.embed = Embed(cfg)\n",
    "        self.pos_embed = PosEmbed(cfg)\n",
    "        self.blocks = nn.ModuleList([TransformerBlock(cfg) for _ in range(cfg.n_layers)])\n",
    "        self.ln_final = LayerNorm(cfg)\n",
    "        self.unembed = Unembed(cfg)\n",
    "    \n",
    "    def forward(self, tokens):\n",
    "        # tokens [batch, position]\n",
    "        embed = self.embed(tokens)\n",
    "        pos_embed = self.pos_embed(tokens)\n",
    "        residual = embed + pos_embed\n",
    "        for block in self.blocks:\n",
    "            residual = block(residual)\n",
    "        normalized_resid_final = self.ln_final(residual)\n",
    "        logits = self.unembed(normalized_resid_final)\n",
    "        # logits have shape [batch, position, logits]\n",
    "        return logits"
   ]
  },
  {
   "cell_type": "markdown",
   "metadata": {},
   "source": [
    "### Testing it out"
   ]
  },
  {
   "cell_type": "code",
   "execution_count": 11,
   "metadata": {},
   "outputs": [],
   "source": [
    "device = utils.get_device()"
   ]
  },
  {
   "cell_type": "code",
   "execution_count": 22,
   "metadata": {},
   "outputs": [
    {
     "name": "stdout",
     "output_type": "stream",
     "text": [
      "Loaded pretrained model gpt2-small into HookedTransformer\n"
     ]
    },
    {
     "data": {
      "text/plain": [
       "GPT2Model(\n",
       "  (embed): Embed()\n",
       "  (pos_embed): PosEmbed()\n",
       "  (blocks): ModuleList(\n",
       "    (0-11): 12 x TransformerBlock(\n",
       "      (ln1): LayerNorm()\n",
       "      (attn): Attention()\n",
       "      (ln2): LayerNorm()\n",
       "      (mlp): FeedForwardLayer(\n",
       "        (gelu): GELU(approximate='none')\n",
       "      )\n",
       "    )\n",
       "  )\n",
       "  (ln_final): LayerNorm()\n",
       "  (unembed): Unembed()\n",
       ")"
      ]
     },
     "execution_count": 22,
     "metadata": {},
     "output_type": "execute_result"
    }
   ],
   "source": [
    "reference_model = transformer_lens.HookedTransformer.from_pretrained(\"gpt2-small\", device=device, fold_ln=False, center_unembed=False, center_writing_weights=False)\n",
    "our_model = GPT2Model(Config(debug=False))\n",
    "our_model.load_state_dict(reference_model.state_dict(), strict=False)\n",
    "our_model = our_model.to(device)\n",
    "our_model"
   ]
  },
  {
   "cell_type": "code",
   "execution_count": 18,
   "metadata": {},
   "outputs": [
    {
     "name": "stderr",
     "output_type": "stream",
     "text": [
      "huggingface/tokenizers: The current process just got forked, after parallelism has already been used. Disabling parallelism to avoid deadlocks...\n",
      "To disable this warning, you can either:\n",
      "\t- Avoid using `tokenizers` before the fork if possible\n",
      "\t- Explicitly set the environment variable TOKENIZERS_PARALLELISM=(true | false)\n"
     ]
    },
    {
     "name": "stdout",
     "output_type": "stream",
     "text": [
      "I am the best soccer player in the world and my name is: \n",
      "^^^Original Input^^^\n"
     ]
    },
    {
     "name": "stderr",
     "output_type": "stream",
     "text": [
      " 40%|████      | 2/5 [00:00<00:00, 18.41it/s]"
     ]
    },
    {
     "name": "stdout",
     "output_type": "stream",
     "text": [
      "The most probable token is   and has probability 0.2006465345621109\n",
      "The most probable token is  K and has probability 0.009677943773567677\n"
     ]
    },
    {
     "name": "stderr",
     "output_type": "stream",
     "text": [
      "100%|██████████| 5/5 [00:00<00:00, 19.78it/s]"
     ]
    },
    {
     "name": "stdout",
     "output_type": "stream",
     "text": [
      "The most probable token is ari and has probability 0.04084837809205055\n",
      "The most probable token is . and has probability 0.11152425408363342\n",
      "The most probable token is  I and has probability 0.32804590463638306\n",
      "--------------------\n",
      "Generated text >>> \"  Kari. I\"\n",
      "--------------------\n"
     ]
    },
    {
     "name": "stderr",
     "output_type": "stream",
     "text": [
      "\n"
     ]
    }
   ],
   "source": [
    "# Our model initialised with the same weights as the reference model\n",
    "test_string = \"I am the best soccer player in the world and my name is: \"\n",
    "print(test_string)\n",
    "print(\"^^^Original Input^^^\")\n",
    "generated_text = \"\"\n",
    "for i in tqdm.tqdm(range(5)):\n",
    "    test_tokens = reference_model.to_tokens(test_string).cpu()\n",
    "    demo_logits = our_model(test_tokens)\n",
    "    new_token = reference_model.tokenizer.decode(demo_logits[-1, -1].argmax())\n",
    "    print(f\"The most probable token is {new_token} and has probability {demo_logits[-1, -1].softmax(dim=-1).max()}\")\n",
    "    test_string += new_token\n",
    "    generated_text += new_token\n",
    "print(\"--------------------\")\n",
    "print(f\"Generated text >>> \\\"{generated_text}\\\"\")\n",
    "print(\"--------------------\")"
   ]
  },
  {
   "cell_type": "code",
   "execution_count": 19,
   "metadata": {},
   "outputs": [
    {
     "name": "stdout",
     "output_type": "stream",
     "text": [
      "I am the best soccer player in the world and my name is: \n",
      "^^^Original Input^^^\n"
     ]
    },
    {
     "name": "stderr",
     "output_type": "stream",
     "text": [
      " 20%|██        | 1/5 [00:00<00:01,  3.80it/s]"
     ]
    },
    {
     "name": "stdout",
     "output_type": "stream",
     "text": [
      "The most probable token is   and has probability 0.20115597546100616\n",
      "The most probable token is  K and has probability 0.009665565565228462\n"
     ]
    },
    {
     "name": "stderr",
     "output_type": "stream",
     "text": [
      " 80%|████████  | 4/5 [00:00<00:00,  7.06it/s]"
     ]
    },
    {
     "name": "stdout",
     "output_type": "stream",
     "text": [
      "The most probable token is ari and has probability 0.040925994515419006\n",
      "The most probable token is . and has probability 0.11142776161432266\n"
     ]
    },
    {
     "name": "stderr",
     "output_type": "stream",
     "text": [
      "100%|██████████| 5/5 [00:00<00:00,  6.77it/s]"
     ]
    },
    {
     "name": "stdout",
     "output_type": "stream",
     "text": [
      "The most probable token is  I and has probability 0.32797977328300476\n",
      "--------------------\n",
      "Generated text >>> \"  Kari. I\"\n",
      "--------------------\n"
     ]
    },
    {
     "name": "stderr",
     "output_type": "stream",
     "text": [
      "\n"
     ]
    }
   ],
   "source": [
    "# Reference model\n",
    "test_string = \"I am the best soccer player in the world and my name is: \"\n",
    "print(test_string)\n",
    "print(\"^^^Original Input^^^\")\n",
    "generated_text = \"\"\n",
    "for i in tqdm.tqdm(range(5)):\n",
    "    test_tokens = reference_model.to_tokens(test_string).cpu()\n",
    "    demo_logits = reference_model(test_tokens)\n",
    "    new_token = reference_model.tokenizer.decode(demo_logits[-1, -1].argmax())\n",
    "    print(f\"The most probable token is {new_token} and has probability {demo_logits[-1, -1].softmax(dim=-1).max()}\")\n",
    "    test_string += new_token\n",
    "    generated_text += new_token\n",
    "print(\"--------------------\")\n",
    "print(f\"Generated text >>> \\\"{generated_text}\\\"\")\n",
    "print(\"--------------------\")"
   ]
  },
  {
   "cell_type": "markdown",
   "metadata": {},
   "source": [
    "##### Attention Pattern Visual"
   ]
  },
  {
   "cell_type": "code",
   "execution_count": 34,
   "metadata": {},
   "outputs": [],
   "source": [
    "model_input_string = \"\"\"Hi I am an pragmatic programmer. I like to program in Python and C++.\"\"\""
   ]
  },
  {
   "cell_type": "code",
   "execution_count": 35,
   "metadata": {},
   "outputs": [
    {
     "name": "stdout",
     "output_type": "stream",
     "text": [
      "cpu\n"
     ]
    }
   ],
   "source": [
    "model_input_tokens = reference_model.to_tokens(model_input_string).cpu()\n",
    "print(model_input_tokens.device) # Should be on CPU\n",
    "reference_output_logits, reference_output_activations = reference_model.run_with_cache(model_input_tokens, remove_batch_dim=True)\n"
   ]
  },
  {
   "cell_type": "code",
   "execution_count": 41,
   "metadata": {},
   "outputs": [
    {
     "name": "stdout",
     "output_type": "stream",
     "text": [
      "<class 'transformer_lens.ActivationCache.ActivationCache'>\n",
      "torch.Size([12, 18, 18])\n"
     ]
    }
   ],
   "source": [
    "print(type(reference_output_activations))\n",
    "attention_scores = reference_output_activations[\"pattern\", 0, \"attn\"]\n",
    "print(attention_scores.shape)\n",
    "model_str_tokens = reference_model.to_str_tokens(model_input_string)"
   ]
  },
  {
   "cell_type": "code",
   "execution_count": 46,
   "metadata": {},
   "outputs": [
    {
     "data": {
      "text/html": [
       "<div id=\"circuits-vis-4ed6aee7-d56d\" style=\"margin: 15px 0;\"/>\n",
       "    <script crossorigin type=\"module\">\n",
       "    import { render, AttentionHeads } from \"https://unpkg.com/circuitsvis@1.43.2/dist/cdn/esm.js\";\n",
       "    render(\n",
       "      \"circuits-vis-4ed6aee7-d56d\",\n",
       "      AttentionHeads,\n",
       "      {\"attention\": [[[1.0, 0.0, 0.0, 0.0, 0.0, 0.0, 0.0, 0.0, 0.0, 0.0, 0.0, 0.0, 0.0, 0.0, 0.0, 0.0, 0.0, 0.0], [0.8888232707977295, 0.11117671430110931, 0.0, 0.0, 0.0, 0.0, 0.0, 0.0, 0.0, 0.0, 0.0, 0.0, 0.0, 0.0, 0.0, 0.0, 0.0, 0.0], [0.6857185363769531, 0.2639034390449524, 0.05037803575396538, 0.0, 0.0, 0.0, 0.0, 0.0, 0.0, 0.0, 0.0, 0.0, 0.0, 0.0, 0.0, 0.0, 0.0, 0.0], [0.6605978012084961, 0.19919650256633759, 0.10871869325637817, 0.031486980617046356, 0.0, 0.0, 0.0, 0.0, 0.0, 0.0, 0.0, 0.0, 0.0, 0.0, 0.0, 0.0, 0.0, 0.0], [0.5590528249740601, 0.18071280419826508, 0.09548567980527878, 0.13169290125370026, 0.03305584937334061, 0.0, 0.0, 0.0, 0.0, 0.0, 0.0, 0.0, 0.0, 0.0, 0.0, 0.0, 0.0, 0.0], [0.22490717470645905, 0.22647884488105774, 0.17234154045581818, 0.07872577756643295, 0.10369334369897842, 0.1938532292842865, 0.0, 0.0, 0.0, 0.0, 0.0, 0.0, 0.0, 0.0, 0.0, 0.0, 0.0, 0.0], [0.3686946630477905, 0.10599113255739212, 0.07356183230876923, 0.05791627988219261, 0.07567979395389557, 0.17159993946552277, 0.14655637741088867, 0.0, 0.0, 0.0, 0.0, 0.0, 0.0, 0.0, 0.0, 0.0, 0.0, 0.0], [0.45035800337791443, 0.13772720098495483, 0.0766889825463295, 0.05570411682128906, 0.019601767882704735, 0.15869194269180298, 0.09453166276216507, 0.006696230731904507, 0.0, 0.0, 0.0, 0.0, 0.0, 0.0, 0.0, 0.0, 0.0, 0.0], [0.45037466287612915, 0.20407158136367798, 0.05240292474627495, 0.04245227202773094, 0.015339340083301067, 0.06079207733273506, 0.10749278962612152, 0.013071013614535332, 0.05400334671139717, 0.0, 0.0, 0.0, 0.0, 0.0, 0.0, 0.0, 0.0, 0.0], [0.2728061378002167, 0.1310819387435913, 0.1334250420331955, 0.05651715397834778, 0.03469809144735336, 0.05958859622478485, 0.07194215804338455, 0.026995588093996048, 0.16680362820625305, 0.04614173620939255, 0.0, 0.0, 0.0, 0.0, 0.0, 0.0, 0.0, 0.0], [0.2816929221153259, 0.12743569910526276, 0.07285914570093155, 0.09419409185647964, 0.02754296362400055, 0.10652177035808563, 0.11484027653932571, 0.017175782471895218, 0.08965664356946945, 0.05431815981864929, 0.013762547634541988, 0.0, 0.0, 0.0, 0.0, 0.0, 0.0, 0.0], [0.18755732476711273, 0.06824079155921936, 0.016896532848477364, 0.017147844657301903, 0.008893937803804874, 0.04561397060751915, 0.5883288383483887, 0.005884336307644844, 0.013857265934348106, 0.008309466764330864, 0.006034592166543007, 0.03323514014482498, 0.0, 0.0, 0.0, 0.0, 0.0, 0.0], [0.27533748745918274, 0.0996372252702713, 0.05571868270635605, 0.07455816119909286, 0.029997428879141808, 0.14843037724494934, 0.11645501106977463, 0.01692350208759308, 0.06949235498905182, 0.04611971601843834, 0.013589035719633102, 0.04288424551486969, 0.010856764391064644, 0.0, 0.0, 0.0, 0.0, 0.0], [0.17078042030334473, 0.0831955149769783, 0.0416070856153965, 0.02832077257335186, 0.032207176089286804, 0.06580100953578949, 0.16322731971740723, 0.04680617153644562, 0.041673753410577774, 0.0368567556142807, 0.03847775608301163, 0.08045907318592072, 0.044403620064258575, 0.12618353962898254, 0.0, 0.0, 0.0, 0.0], [0.24445801973342896, 0.13322694599628448, 0.06802767515182495, 0.04912886023521423, 0.02414306439459324, 0.1092192754149437, 0.09132032096385956, 0.012331781908869743, 0.08754152804613113, 0.048148464411497116, 0.011770974844694138, 0.03516598790884018, 0.012613996863365173, 0.05744097754359245, 0.015462085604667664, 0.0, 0.0, 0.0], [0.2403712123632431, 0.07484723627567291, 0.04718530550599098, 0.02117139659821987, 0.025976408272981644, 0.059306465089321136, 0.10368569940328598, 0.011248310096561909, 0.04608786106109619, 0.020195696502923965, 0.020287152379751205, 0.039157893508672714, 0.022840948775410652, 0.21561594307422638, 0.028072834014892578, 0.023949651047587395, 0.0, 0.0], [0.19990617036819458, 0.09841600805521011, 0.034368328750133514, 0.07575608789920807, 0.02953930012881756, 0.04972585290670395, 0.06644365191459656, 0.029852477833628654, 0.030250413343310356, 0.061665087938308716, 0.05014089494943619, 0.04103747010231018, 0.06284154206514359, 0.03680073469877243, 0.04563995078206062, 0.05464152619242668, 0.03297452628612518, 0.0], [0.35050374269485474, 0.09497492015361786, 0.04916253685951233, 0.037694577127695084, 0.011906951665878296, 0.12276051193475723, 0.0722651407122612, 0.0037819650024175644, 0.06185998022556305, 0.035024385899305344, 0.0044760024175047874, 0.014601142145693302, 0.004914635326713324, 0.04367026686668396, 0.007367401849478483, 0.04181784391403198, 0.03718963637948036, 0.0060283769853413105]], [[1.0, 0.0, 0.0, 0.0, 0.0, 0.0, 0.0, 0.0, 0.0, 0.0, 0.0, 0.0, 0.0, 0.0, 0.0, 0.0, 0.0, 0.0], [0.00011130896746180952, 0.9998886585235596, 0.0, 0.0, 0.0, 0.0, 0.0, 0.0, 0.0, 0.0, 0.0, 0.0, 0.0, 0.0, 0.0, 0.0, 0.0, 0.0], [0.0015574663411825895, 0.016105417162179947, 0.9823371171951294, 0.0, 0.0, 0.0, 0.0, 0.0, 0.0, 0.0, 0.0, 0.0, 0.0, 0.0, 0.0, 0.0, 0.0, 0.0], [0.00014871274470351636, 0.005798439960926771, 0.013074927031993866, 0.9809778928756714, 0.0, 0.0, 0.0, 0.0, 0.0, 0.0, 0.0, 0.0, 0.0, 0.0, 0.0, 0.0, 0.0, 0.0], [0.0008108725887723267, 0.0012963374610990286, 0.001012563705444336, 0.010628228075802326, 0.9862520098686218, 0.0, 0.0, 0.0, 0.0, 0.0, 0.0, 0.0, 0.0, 0.0, 0.0, 0.0, 0.0, 0.0], [1.1790418284363113e-05, 0.0004809958627447486, 0.0002638305304571986, 0.00027578705339692533, 4.322304448578507e-05, 0.9989243149757385, 0.0, 0.0, 0.0, 0.0, 0.0, 0.0, 0.0, 0.0, 0.0, 0.0, 0.0, 0.0], [0.00015782256377860904, 0.0007998718647286296, 0.003159362357109785, 0.00499523663893342, 0.0005471587646752596, 0.003674869192764163, 0.9866655468940735, 0.0, 0.0, 0.0, 0.0, 0.0, 0.0, 0.0, 0.0, 0.0, 0.0, 0.0], [0.014648868702352047, 0.0026096582878381014, 0.0028604716062545776, 0.0003787549212574959, 0.00017213185492437333, 0.00020119281543884426, 0.00139357999432832, 0.9777352809906006, 0.0, 0.0, 0.0, 0.0, 0.0, 0.0, 0.0, 0.0, 0.0, 0.0], [0.0010299739660695195, 0.005739707034081221, 0.5428578853607178, 0.027230044826865196, 0.0005040735122747719, 0.00025864236522465944, 0.00033178107696585357, 0.0006899306899867952, 0.4213578701019287, 0.0, 0.0, 0.0, 0.0, 0.0, 0.0, 0.0, 0.0, 0.0], [0.0006568153039552271, 0.001645770389586687, 0.0029170154593884945, 0.00424813199788332, 0.0009227890404872596, 0.0008810508879832923, 0.0002050601178780198, 0.0006476663984358311, 0.0011795725440606475, 0.9866961240768433, 0.0, 0.0, 0.0, 0.0, 0.0, 0.0, 0.0, 0.0], [0.003045221557840705, 0.001058518304489553, 0.0012042103335261345, 0.0012092036195099354, 0.00193540018517524, 5.3243740694597363e-05, 0.00013747681805398315, 0.008769288659095764, 0.0005645608762279153, 0.0052928258664906025, 0.9767300486564636, 0.0, 0.0, 0.0, 0.0, 0.0, 0.0, 0.0], [0.0005216063000261784, 0.0004401013720780611, 0.0011537382379174232, 0.0029629687778651714, 0.00020095202489756048, 0.0005027961451560259, 0.07832393795251846, 0.0006808877224102616, 0.000535183644387871, 0.00043954516877420247, 0.00111904158256948, 0.9131193161010742, 0.0, 0.0, 0.0, 0.0, 0.0, 0.0], [0.001222254359163344, 0.00010432538692839444, 0.0008442156831733882, 0.0011435387423262, 0.0009514207486063242, 3.5252945963293314e-05, 1.24378566397354e-05, 0.0011246803915128112, 0.000426731159677729, 0.0018877147231251001, 0.013165823183953762, 3.8295147533062845e-05, 0.9790432453155518, 0.0, 0.0, 0.0, 0.0, 0.0], [0.0010878946632146835, 0.0009722646791487932, 0.001611917046830058, 0.0002896506048273295, 0.00025956163881346583, 0.003534971969202161, 0.009276092052459717, 5.476721344166435e-05, 0.0006988055538386106, 0.0004887708928436041, 6.204855162650347e-05, 0.0005120969144627452, 2.0308541934355162e-05, 0.981130838394165, 0.0, 0.0, 0.0, 0.0], [0.0009943520417436957, 0.00025980902137234807, 0.0009717890643514693, 0.0002873742487281561, 0.00017368487897329032, 2.5800101866479963e-05, 6.392374052666128e-05, 0.008904499001801014, 0.0005213812692090869, 0.006388470996171236, 0.026054367423057556, 0.00032433198066428304, 0.015318929217755795, 2.3955210508574964e-06, 0.9397088289260864, 0.0, 0.0, 0.0], [0.0011091135675087571, 0.0001007566461339593, 0.0003802866267506033, 0.00022734484809916466, 0.0013303094310685992, 0.000395846989704296, 0.0010464068036526442, 0.0002444538113195449, 0.00020512683840934187, 0.00010232840577373281, 0.0003420949506107718, 0.0005635387497022748, 0.0005896840011700988, 0.0009790946496650577, 0.0004682249273173511, 0.9919155240058899, 0.0, 0.0], [8.741479541640729e-05, 0.0001608172315172851, 2.0233277609804645e-05, 0.00034111374407075346, 2.280693706779857e-06, 0.0005247397348284721, 0.0011404536198824644, 1.3083709745842498e-05, 8.152538612193894e-06, 1.613705353520345e-05, 9.012202099256683e-06, 5.093038271297701e-05, 2.5831154744082596e-06, 0.00018158601596951485, 3.234948053432163e-06, 3.133996187898447e-06, 0.9974350333213806, 0.0], [0.005827578715980053, 0.00043996566091664135, 0.0004201666743028909, 4.863693902734667e-05, 3.130892218905501e-05, 4.174440982751548e-05, 0.00047814741265028715, 0.41536033153533936, 0.0003005879698321223, 0.00035839705378748477, 0.0015892228111624718, 5.60781845706515e-05, 0.0009009860805235803, 0.00010854474385268986, 0.0019235329236835241, 0.00013153570762369782, 3.554701106622815e-05, 0.5719476342201233]], [[1.0, 0.0, 0.0, 0.0, 0.0, 0.0, 0.0, 0.0, 0.0, 0.0, 0.0, 0.0, 0.0, 0.0, 0.0, 0.0, 0.0, 0.0], [0.9773502349853516, 0.02264973521232605, 0.0, 0.0, 0.0, 0.0, 0.0, 0.0, 0.0, 0.0, 0.0, 0.0, 0.0, 0.0, 0.0, 0.0, 0.0, 0.0], [0.8613250255584717, 0.0658344030380249, 0.07284057140350342, 0.0, 0.0, 0.0, 0.0, 0.0, 0.0, 0.0, 0.0, 0.0, 0.0, 0.0, 0.0, 0.0, 0.0, 0.0], [0.809845507144928, 0.05876738950610161, 0.07348201423883438, 0.05790519341826439, 0.0, 0.0, 0.0, 0.0, 0.0, 0.0, 0.0, 0.0, 0.0, 0.0, 0.0, 0.0, 0.0, 0.0], [0.6837546825408936, 0.09237490594387054, 0.1001124158501625, 0.07390917092561722, 0.04984882101416588, 0.0, 0.0, 0.0, 0.0, 0.0, 0.0, 0.0, 0.0, 0.0, 0.0, 0.0, 0.0, 0.0], [0.6001300811767578, 0.07523343712091446, 0.08866234123706818, 0.06473994255065918, 0.07525762915611267, 0.09597653150558472, 0.0, 0.0, 0.0, 0.0, 0.0, 0.0, 0.0, 0.0, 0.0, 0.0, 0.0, 0.0], [0.5832624435424805, 0.04835991561412811, 0.11823850870132446, 0.08485669642686844, 0.08021941781044006, 0.04245494306087494, 0.04260808229446411, 0.0, 0.0, 0.0, 0.0, 0.0, 0.0, 0.0, 0.0, 0.0, 0.0, 0.0], [0.4650101363658905, 0.10360446572303772, 0.16053448617458344, 0.11184734851121902, 0.023650990799069405, 0.035516560077667236, 0.04463476315140724, 0.05520127713680267, 0.0, 0.0, 0.0, 0.0, 0.0, 0.0, 0.0, 0.0, 0.0, 0.0], [0.45992806553840637, 0.07037876546382904, 0.07229966670274734, 0.08193550258874893, 0.03957238048315048, 0.0515764057636261, 0.038176655769348145, 0.12862756848335266, 0.057504914700984955, 0.0, 0.0, 0.0, 0.0, 0.0, 0.0, 0.0, 0.0, 0.0], [0.4022550880908966, 0.07019058614969254, 0.061621103435754776, 0.09307218343019485, 0.03663712739944458, 0.09518387168645859, 0.035113122314214706, 0.10567771643400192, 0.0500350296497345, 0.05021418258547783, 0.0, 0.0, 0.0, 0.0, 0.0, 0.0, 0.0, 0.0], [0.294359415769577, 0.050128765404224396, 0.040856413543224335, 0.05337723344564438, 0.02363326959311962, 0.034719936549663544, 0.020850444212555885, 0.21966835856437683, 0.03453484922647476, 0.09430594742298126, 0.13356538116931915, 0.0, 0.0, 0.0, 0.0, 0.0, 0.0, 0.0], [0.4188190996646881, 0.05165797099471092, 0.051012273877859116, 0.09434669464826584, 0.03964444249868393, 0.048614125698804855, 0.06446795165538788, 0.02402789704501629, 0.04260359704494476, 0.050660666078329086, 0.04432683810591698, 0.0698183923959732, 0.0, 0.0, 0.0, 0.0, 0.0, 0.0], [0.21570198237895966, 0.03856702893972397, 0.04589833319187164, 0.04436090588569641, 0.022595349699258804, 0.030872205272316933, 0.02337200567126274, 0.11091391742229462, 0.04547165334224701, 0.10114404559135437, 0.1825159788131714, 0.02599794790148735, 0.11258861422538757, 0.0, 0.0, 0.0, 0.0, 0.0], [0.36980417370796204, 0.05560854449868202, 0.05005677044391632, 0.02286764793097973, 0.03666938096284866, 0.04096103832125664, 0.07434576004743576, 0.033279530704021454, 0.03735819831490517, 0.033516667783260345, 0.03531694412231445, 0.047694697976112366, 0.03125563636422157, 0.13126498460769653, 0.0, 0.0, 0.0, 0.0], [0.17325462400913239, 0.03543933480978012, 0.02077561430633068, 0.02393195778131485, 0.014002133160829544, 0.02877281978726387, 0.011983701027929783, 0.143720805644989, 0.01802724599838257, 0.05654269456863403, 0.057908009737730026, 0.022554580122232437, 0.05060967430472374, 0.024186793714761734, 0.31828996539115906, 0.0, 0.0, 0.0], [0.2237105369567871, 0.0339343436062336, 0.07768277078866959, 0.034171782433986664, 0.030596472322940826, 0.0290128942579031, 0.1161622628569603, 0.042805857956409454, 0.07307672500610352, 0.03509911894798279, 0.03871389478445053, 0.05750256031751633, 0.04069617763161659, 0.09137089550495148, 0.04028351977467537, 0.03518021106719971, 0.0, 0.0], [0.4249792993068695, 0.037022024393081665, 0.04930829629302025, 0.061609718948602676, 0.03390592709183693, 0.09291192889213562, 0.030817793682217598, 0.050806235522031784, 0.035254426300525665, 0.036504700779914856, 0.025740111246705055, 0.022105997428297997, 0.029428930953145027, 0.004301206208765507, 0.033040400594472885, 0.022263478487730026, 0.009999559260904789, 0.0], [0.25155144929885864, 0.06089720129966736, 0.0859154537320137, 0.06972002983093262, 0.012281016446650028, 0.02084779366850853, 0.031314291059970856, 0.026719259098172188, 0.09653106331825256, 0.07630541175603867, 0.029824476689100266, 0.03134964033961296, 0.036964673548936844, 0.022354422137141228, 0.02552022971212864, 0.035837844014167786, 0.0547635555267334, 0.031302109360694885]], [[1.0, 0.0, 0.0, 0.0, 0.0, 0.0, 0.0, 0.0, 0.0, 0.0, 0.0, 0.0, 0.0, 0.0, 0.0, 0.0, 0.0, 0.0], [0.21201695501804352, 0.7879831194877625, 0.0, 0.0, 0.0, 0.0, 0.0, 0.0, 0.0, 0.0, 0.0, 0.0, 0.0, 0.0, 0.0, 0.0, 0.0, 0.0], [0.027190152555704117, 0.17488832771778107, 0.7979215383529663, 0.0, 0.0, 0.0, 0.0, 0.0, 0.0, 0.0, 0.0, 0.0, 0.0, 0.0, 0.0, 0.0, 0.0, 0.0], [0.002795308129861951, 0.012994897551834583, 0.7506822347640991, 0.23352757096290588, 0.0, 0.0, 0.0, 0.0, 0.0, 0.0, 0.0, 0.0, 0.0, 0.0, 0.0, 0.0, 0.0, 0.0], [0.038932427763938904, 0.01829259656369686, 0.03437131270766258, 0.0740622952580452, 0.8343413472175598, 0.0, 0.0, 0.0, 0.0, 0.0, 0.0, 0.0, 0.0, 0.0, 0.0, 0.0, 0.0, 0.0], [0.0015907981432974339, 0.00010476088937139139, 4.920872743241489e-05, 0.00031943395151756704, 0.0003915209090337157, 0.9975442290306091, 0.0, 0.0, 0.0, 0.0, 0.0, 0.0, 0.0, 0.0, 0.0, 0.0, 0.0, 0.0], [0.000555245263967663, 0.00013668675092048943, 3.911773819709197e-05, 0.001155323931016028, 0.0006810635095462203, 0.019134927541017532, 0.9782976508140564, 0.0, 0.0, 0.0, 0.0, 0.0, 0.0, 0.0, 0.0, 0.0, 0.0, 0.0], [0.06154234707355499, 0.014949016273021698, 0.014489867724478245, 0.04468240216374397, 0.05980625003576279, 0.14458411931991577, 0.19719736278057098, 0.46274855732917786, 0.0, 0.0, 0.0, 0.0, 0.0, 0.0, 0.0, 0.0, 0.0, 0.0], [0.0013746150070801377, 0.0017816268373280764, 0.0066652195528149605, 0.012593641877174377, 0.0014890480088070035, 0.001542894635349512, 0.012533439323306084, 0.010722734965384007, 0.951296865940094, 0.0, 0.0, 0.0, 0.0, 0.0, 0.0, 0.0, 0.0, 0.0], [0.002375237410888076, 0.0004074009775649756, 0.0007828235975466669, 0.000731657084543258, 0.0012453956296667457, 0.002964945510029793, 0.0061630187556147575, 0.010323703289031982, 0.11258348822593689, 0.8624223470687866, 0.0, 0.0, 0.0, 0.0, 0.0, 0.0, 0.0, 0.0], [0.009267141111195087, 0.0011436938075348735, 0.0005696296575479209, 0.001019729650579393, 0.008306198753416538, 0.016944903880357742, 0.006042047403752804, 0.02345418557524681, 0.023631583899259567, 0.06402549147605896, 0.8455953598022461, 0.0, 0.0, 0.0, 0.0, 0.0, 0.0, 0.0], [0.009693740867078304, 0.00024009039043448865, 4.208711106912233e-05, 0.00010177318472415209, 8.049601456150413e-05, 0.009809063747525215, 0.012544363737106323, 0.0007952186861075461, 0.0013722055591642857, 0.005749954842031002, 0.009548824280500412, 0.9500221014022827, 0.0, 0.0, 0.0, 0.0, 0.0, 0.0], [0.0024447126779705286, 9.378934919368476e-05, 0.00012194116425234824, 0.00024016461975406855, 0.0008372486336156726, 0.0007843971834518015, 0.0014149951748549938, 0.005028812680393457, 0.0037753647193312645, 0.008502885699272156, 0.08457718789577484, 0.025840096175670624, 0.8663384318351746, 0.0, 0.0, 0.0, 0.0, 0.0], [0.00030362617690116167, 2.980836370625184e-06, 4.460106879378145e-07, 1.2222050145282992e-06, 5.983145570098714e-07, 7.860984624130651e-05, 0.00019279234402347356, 1.5449708143933094e-06, 1.644469375605695e-05, 1.948088174685836e-05, 2.4751778255449608e-05, 0.0006484342156909406, 4.711966903414577e-05, 0.998661994934082, 0.0, 0.0, 0.0, 0.0], [0.007039596326649189, 0.00012779913959093392, 0.00022162725508678705, 0.0002009305462706834, 0.0004678774857893586, 0.0003683814429678023, 0.0005104680312797427, 0.003882593708112836, 0.003952393773943186, 0.04133576899766922, 0.02133057452738285, 0.010499666444957256, 0.10861261188983917, 0.018089329823851585, 0.7833603620529175, 0.0, 0.0, 0.0], [0.0005004854174330831, 1.8670658391783945e-05, 1.3658612260769587e-05, 1.0594684681564104e-05, 1.718634484859649e-05, 0.00011653615365503356, 0.00013746578770224005, 7.65487493481487e-05, 0.00027606540243141353, 0.0006256232154555619, 0.0004017306200694293, 0.002541840774938464, 0.002271997043862939, 0.08926477283239365, 0.005190181080251932, 0.8985366821289062, 0.0, 0.0], [9.067919745575637e-05, 9.20059119380312e-06, 8.081666464931914e-07, 7.780996384099126e-06, 1.7586685316928197e-06, 6.347015732899308e-05, 0.0002127482002833858, 3.2425903100374853e-06, 1.218324905494228e-05, 3.4376775147393346e-05, 2.2815158445155248e-05, 0.0004823761701118201, 4.240117414155975e-05, 0.01148527953773737, 0.00012408745533321053, 0.0013409992679953575, 0.9860658645629883, 0.0], [0.009911089204251766, 0.00035432842560112476, 0.0001452321739634499, 0.000378991971956566, 0.00022848848311696202, 0.000748241029214114, 0.0009070603409782052, 0.001512756571173668, 0.0013549772556871176, 0.0030854628421366215, 0.005544260144233704, 0.015933599323034286, 0.016013024374842644, 0.03760064020752907, 0.08097777515649796, 0.015155971981585026, 0.3395850956439972, 0.4705629050731659]], [[1.0, 0.0, 0.0, 0.0, 0.0, 0.0, 0.0, 0.0, 0.0, 0.0, 0.0, 0.0, 0.0, 0.0, 0.0, 0.0, 0.0, 0.0], [0.5392554402351379, 0.46074455976486206, 0.0, 0.0, 0.0, 0.0, 0.0, 0.0, 0.0, 0.0, 0.0, 0.0, 0.0, 0.0, 0.0, 0.0, 0.0, 0.0], [0.5524430274963379, 0.35068589448928833, 0.09687104821205139, 0.0, 0.0, 0.0, 0.0, 0.0, 0.0, 0.0, 0.0, 0.0, 0.0, 0.0, 0.0, 0.0, 0.0, 0.0], [0.24388593435287476, 0.11885473877191544, 0.055114079266786575, 0.5821452140808105, 0.0, 0.0, 0.0, 0.0, 0.0, 0.0, 0.0, 0.0, 0.0, 0.0, 0.0, 0.0, 0.0, 0.0], [0.2813900113105774, 0.13592661917209625, 0.06918076425790787, 0.16118691861629486, 0.35231566429138184, 0.0, 0.0, 0.0, 0.0, 0.0, 0.0, 0.0, 0.0, 0.0, 0.0, 0.0, 0.0, 0.0], [0.011746839620172977, 0.004538516514003277, 0.0013654663925990462, 0.00962192751467228, 0.007152171805500984, 0.9655751585960388, 0.0, 0.0, 0.0, 0.0, 0.0, 0.0, 0.0, 0.0, 0.0, 0.0, 0.0, 0.0], [0.05529140308499336, 0.016425615176558495, 0.005922278854995966, 0.028787150979042053, 0.02562233991920948, 0.15303653478622437, 0.7149147391319275, 0.0, 0.0, 0.0, 0.0, 0.0, 0.0, 0.0, 0.0, 0.0, 0.0, 0.0], [0.07785248756408691, 0.05726970359683037, 0.040955960750579834, 0.03995586931705475, 0.10380665957927704, 0.13333573937416077, 0.1423584669828415, 0.40446507930755615, 0.0, 0.0, 0.0, 0.0, 0.0, 0.0, 0.0, 0.0, 0.0, 0.0], [0.1318918615579605, 0.06851352006196976, 0.026829363778233528, 0.12802374362945557, 0.046873826533555984, 0.13582837581634521, 0.15850307047367096, 0.11888977140188217, 0.18464644253253937, 0.0, 0.0, 0.0, 0.0, 0.0, 0.0, 0.0, 0.0, 0.0], [0.06892780214548111, 0.01763295754790306, 0.016397563740611076, 0.04512504115700722, 0.03276723623275757, 0.07187627255916595, 0.10757795721292496, 0.07143377512693405, 0.12455303221940994, 0.4437083601951599, 0.0, 0.0, 0.0, 0.0, 0.0, 0.0, 0.0, 0.0], [0.04298661649227142, 0.021296372637152672, 0.004560314118862152, 0.01854017935693264, 0.029643777757883072, 0.09996841102838516, 0.16034643352031708, 0.0285523422062397, 0.03143073245882988, 0.2981571853160858, 0.2645176947116852, 0.0, 0.0, 0.0, 0.0, 0.0, 0.0, 0.0], [0.02516060322523117, 0.009700010530650616, 0.0034110189881175756, 0.013885166496038437, 0.011284110136330128, 0.033367857336997986, 0.14702026546001434, 0.01751139760017395, 0.01717165857553482, 0.03549514338374138, 0.03406631946563721, 0.6519264578819275, 0.0, 0.0, 0.0, 0.0, 0.0, 0.0], [0.07163861393928528, 0.01274105254560709, 0.005520177539438009, 0.016308920457959175, 0.02169136144220829, 0.041200388222932816, 0.048810798674821854, 0.014824170619249344, 0.02850716933608055, 0.10732457041740417, 0.08604135364294052, 0.14168871939182281, 0.4037027359008789, 0.0, 0.0, 0.0, 0.0, 0.0], [0.027895737439393997, 0.0034113272558897734, 0.0008825092227198184, 0.0034268791787326336, 0.0014817154733464122, 0.007547349669039249, 0.004591204226016998, 0.0032575770746916533, 0.002897503785789013, 0.0033912325743585825, 0.00456741638481617, 0.001810261164791882, 0.017886387184262276, 0.916952908039093, 0.0, 0.0, 0.0, 0.0], [0.020568402484059334, 0.009972147643566132, 0.009289108216762543, 0.011394514702260494, 0.015272831544280052, 0.02077578753232956, 0.021417735144495964, 0.010576502420008183, 0.04004346951842308, 0.08082818984985352, 0.07438358664512634, 0.09109579771757126, 0.18826545774936676, 0.08041144162416458, 0.32570499181747437, 0.0, 0.0, 0.0], [0.04190699756145477, 0.005255191586911678, 0.008629227988421917, 0.0054586511105299, 0.010220004245638847, 0.01061891857534647, 0.015302544459700584, 0.011116319335997105, 0.024099672213196754, 0.018130820244550705, 0.030755173414945602, 0.024256790056824684, 0.07369557023048401, 0.15187855064868927, 0.08907970041036606, 0.47959578037261963, 0.0, 0.0], [0.049415964633226395, 0.020881732925772667, 0.0026682817842811346, 0.0036139553412795067, 0.0025263496208935976, 0.030622290447354317, 0.004784591030329466, 0.003907245118170977, 0.0039162542670965195, 0.004638486076146364, 0.005997102241963148, 0.004292889963835478, 0.009542848914861679, 0.02827415056526661, 0.016434889286756516, 0.020652059465646744, 0.7878308892250061, 0.0], [0.015969889238476753, 0.006288344506174326, 0.004005435388535261, 0.0028905561193823814, 0.005916300695389509, 0.006446969695389271, 0.006026608869433403, 0.01714245043694973, 0.009628220461308956, 0.025309434160590172, 0.03541111946105957, 0.03985079005360603, 0.089066281914711, 0.025451043620705605, 0.18410010635852814, 0.08601126074790955, 0.06931465119123459, 0.3711705803871155]], [[1.0, 0.0, 0.0, 0.0, 0.0, 0.0, 0.0, 0.0, 0.0, 0.0, 0.0, 0.0, 0.0, 0.0, 0.0, 0.0, 0.0, 0.0], [0.07077283412218094, 0.9292271137237549, 0.0, 0.0, 0.0, 0.0, 0.0, 0.0, 0.0, 0.0, 0.0, 0.0, 0.0, 0.0, 0.0, 0.0, 0.0, 0.0], [0.18340440094470978, 0.003155498066917062, 0.8134401440620422, 0.0, 0.0, 0.0, 0.0, 0.0, 0.0, 0.0, 0.0, 0.0, 0.0, 0.0, 0.0, 0.0, 0.0, 0.0], [0.07537958025932312, 0.0009934932459145784, 0.003139267675578594, 0.920487642288208, 0.0, 0.0, 0.0, 0.0, 0.0, 0.0, 0.0, 0.0, 0.0, 0.0, 0.0, 0.0, 0.0, 0.0], [0.05634500831365585, 0.002496124943718314, 0.003577418625354767, 0.011360439471900463, 0.9262210130691528, 0.0, 0.0, 0.0, 0.0, 0.0, 0.0, 0.0, 0.0, 0.0, 0.0, 0.0, 0.0, 0.0], [0.004370511043816805, 2.031156691373326e-05, 4.020557298645144e-06, 5.696114840247901e-06, 5.222220877953987e-08, 0.9955993890762329, 0.0, 0.0, 0.0, 0.0, 0.0, 0.0, 0.0, 0.0, 0.0, 0.0, 0.0, 0.0], [0.00117352360393852, 0.0001292784872930497, 2.936906457762234e-05, 2.779581154754851e-05, 4.037844064441742e-06, 9.664337994763628e-05, 0.9985393285751343, 0.0, 0.0, 0.0, 0.0, 0.0, 0.0, 0.0, 0.0, 0.0, 0.0, 0.0], [0.27104881405830383, 0.05816720053553581, 0.19500093162059784, 0.03908148780465126, 0.07417632639408112, 0.024347985163331032, 0.018844662234187126, 0.3193325400352478, 0.0, 0.0, 0.0, 0.0, 0.0, 0.0, 0.0, 0.0, 0.0, 0.0], [0.032529909163713455, 0.0027925826143473387, 0.6429786682128906, 0.004940237384289503, 6.524142372654751e-05, 4.1818824684014544e-05, 7.138856017263606e-05, 0.00025202237884514034, 0.31632810831069946, 0.0, 0.0, 0.0, 0.0, 0.0, 0.0, 0.0, 0.0, 0.0], [0.046014510095119476, 0.00032224308233708143, 0.008519181050360203, 0.0022696724627166986, 0.0009407583856955171, 0.0001115450359066017, 0.00022549698769580573, 0.0005544433370232582, 0.002078034682199359, 0.9389641284942627, 0.0, 0.0, 0.0, 0.0, 0.0, 0.0, 0.0, 0.0], [0.0864315927028656, 0.009962040930986404, 0.05401548743247986, 0.040009330958127975, 0.1607019454240799, 0.014956734143197536, 0.006913249846547842, 0.03731885924935341, 0.02168821543455124, 0.03756511211395264, 0.5304373502731323, 0.0, 0.0, 0.0, 0.0, 0.0, 0.0, 0.0], [0.003352985018864274, 0.0010689933551475406, 0.0003722635156009346, 6.591578858206049e-05, 1.1301235645078123e-05, 2.4071212465059943e-05, 0.020300336182117462, 2.6739247914520092e-05, 0.00012896431144326925, 7.1317476795229595e-06, 6.690887062177353e-07, 0.9746407270431519, 0.0, 0.0, 0.0, 0.0, 0.0, 0.0], [0.05312309041619301, 0.010179405100643635, 0.04010937362909317, 0.03085521049797535, 0.09784412384033203, 0.001721690408885479, 0.001881459611468017, 0.025951171293854713, 0.016834916546940804, 0.012167890556156635, 0.044221263378858566, 0.001160962856374681, 0.6639494299888611, 0.0, 0.0, 0.0, 0.0, 0.0], [0.003946866374462843, 1.0000482006944367e-06, 1.159804560302291e-05, 1.4002019099734753e-07, 2.709494992814143e-07, 1.1679828276101034e-05, 3.5126464354107156e-05, 4.2439017988726846e-07, 3.022116743522929e-06, 6.256640517676715e-06, 6.031746835333252e-08, 5.9991557463945355e-06, 2.953914446379713e-08, 0.9959776997566223, 0.0, 0.0, 0.0, 0.0], [0.08482833951711655, 0.009534568525850773, 0.04673735052347183, 0.021662956103682518, 0.14898613095283508, 0.00456635607406497, 0.0018372962949797511, 0.059519052505493164, 0.018763216212391853, 0.05729721859097481, 0.08877179026603699, 0.008679702877998352, 0.04872473329305649, 0.0028614115435630083, 0.3972298204898834, 0.0, 0.0, 0.0], [0.03981759771704674, 1.0176926480198745e-05, 0.0005879885284230113, 3.1389801733894274e-05, 7.757767161820084e-05, 2.1115829440532252e-06, 4.782302858075127e-05, 5.1974173402413726e-05, 0.00015757726214360446, 6.800296978326514e-05, 1.4015458873473108e-05, 6.75120681989938e-05, 9.851696631812956e-06, 0.0009599605691619217, 2.7594007406150922e-05, 0.9580689072608948, 0.0, 0.0], [0.0005588962812907994, 2.1663754523615353e-05, 7.872970854805317e-06, 7.912141882115975e-06, 2.8773969873441274e-09, 1.33806297526462e-05, 3.101301990682259e-05, 2.6123862184590507e-08, 1.7306715562881436e-06, 8.329919154448362e-08, 1.803922233811761e-09, 5.723738468077499e-06, 1.7482902625598484e-10, 1.1028018889192026e-05, 1.3555641054097123e-09, 2.0953523005573516e-07, 0.9993404746055603, 0.0], [0.0778011679649353, 0.053112857043743134, 0.14887230098247528, 0.026425156742334366, 0.050752103328704834, 0.015094916336238384, 0.008450706489384174, 0.19091829657554626, 0.08251380920410156, 0.03214531019330025, 0.04350072890520096, 0.019813356921076775, 0.03091692179441452, 0.00560330506414175, 0.04287344589829445, 0.021758543327450752, 0.003482297295704484, 0.14596480131149292]], [[1.0, 0.0, 0.0, 0.0, 0.0, 0.0, 0.0, 0.0, 0.0, 0.0, 0.0, 0.0, 0.0, 0.0, 0.0, 0.0, 0.0, 0.0], [0.8924582600593567, 0.10754171758890152, 0.0, 0.0, 0.0, 0.0, 0.0, 0.0, 0.0, 0.0, 0.0, 0.0, 0.0, 0.0, 0.0, 0.0, 0.0, 0.0], [0.45393967628479004, 0.5175583362579346, 0.028501950204372406, 0.0, 0.0, 0.0, 0.0, 0.0, 0.0, 0.0, 0.0, 0.0, 0.0, 0.0, 0.0, 0.0, 0.0, 0.0], [0.5463356375694275, 0.35778695344924927, 0.02480226941406727, 0.07107513397932053, 0.0, 0.0, 0.0, 0.0, 0.0, 0.0, 0.0, 0.0, 0.0, 0.0, 0.0, 0.0, 0.0, 0.0], [0.41549351811408997, 0.3580424189567566, 0.057845160365104675, 0.12797467410564423, 0.040644191205501556, 0.0, 0.0, 0.0, 0.0, 0.0, 0.0, 0.0, 0.0, 0.0, 0.0, 0.0, 0.0, 0.0], [0.47627270221710205, 0.15232938528060913, 0.05518702045083046, 0.04891927167773247, 0.1321074366569519, 0.13518425822257996, 0.0, 0.0, 0.0, 0.0, 0.0, 0.0, 0.0, 0.0, 0.0, 0.0, 0.0, 0.0], [0.3368540108203888, 0.14411579072475433, 0.03621821478009224, 0.057633865624666214, 0.059911299496889114, 0.11705482751131058, 0.24821200966835022, 0.0, 0.0, 0.0, 0.0, 0.0, 0.0, 0.0, 0.0, 0.0, 0.0, 0.0], [0.14860232174396515, 0.21048127114772797, 0.011493506841361523, 0.03197731450200081, 0.011423175223171711, 0.16897182166576385, 0.4142443537712097, 0.002806245582178235, 0.0, 0.0, 0.0, 0.0, 0.0, 0.0, 0.0, 0.0, 0.0, 0.0], [0.12047838419675827, 0.24804282188415527, 0.01160243060439825, 0.0474696047604084, 0.017039816826581955, 0.1892194300889969, 0.3507247567176819, 0.00514874467626214, 0.010273969732224941, 0.0, 0.0, 0.0, 0.0, 0.0, 0.0, 0.0, 0.0, 0.0], [0.16926662623882294, 0.13303858041763306, 0.022283190861344337, 0.05424536019563675, 0.03775114193558693, 0.27193087339401245, 0.21511510014533997, 0.02466564252972603, 0.023024871945381165, 0.04867865517735481, 0.0, 0.0, 0.0, 0.0, 0.0, 0.0, 0.0, 0.0], [0.09557047486305237, 0.184724822640419, 0.012418955564498901, 0.04116586223244667, 0.00940069928765297, 0.1339031159877777, 0.1683204174041748, 0.006750635337084532, 0.014139008708298206, 0.0493231862783432, 0.2842828631401062, 0.0, 0.0, 0.0, 0.0, 0.0, 0.0, 0.0], [0.17227184772491455, 0.17439623177051544, 0.007835131138563156, 0.021549049764871597, 0.011209697462618351, 0.12667019665241241, 0.3720987141132355, 0.007776468526571989, 0.005260893143713474, 0.005815569777041674, 0.0066170780919492245, 0.08849917352199554, 0.0, 0.0, 0.0, 0.0, 0.0, 0.0], [0.08112175762653351, 0.1209288090467453, 0.013028683140873909, 0.05963415652513504, 0.009952010586857796, 0.16551506519317627, 0.2790527939796448, 0.00434078648686409, 0.015106802806258202, 0.02960636280477047, 0.012351464480161667, 0.2033606916666031, 0.006000602152198553, 0.0, 0.0, 0.0, 0.0, 0.0], [0.2573356628417969, 0.09453506022691727, 0.039515990763902664, 0.04183608293533325, 0.04113622382283211, 0.07183903455734253, 0.08590568602085114, 0.03914610296487808, 0.03289119899272919, 0.02785472944378853, 0.02203904092311859, 0.0718182623386383, 0.028938736766576767, 0.1452081799507141, 0.0, 0.0, 0.0, 0.0], [0.08205743879079819, 0.11924275010824203, 0.008630625903606415, 0.032310131937265396, 0.0085691437125206, 0.15077108144760132, 0.20404383540153503, 0.003788887755945325, 0.009331255219876766, 0.01899663358926773, 0.009541409090161324, 0.1555449664592743, 0.006117798388004303, 0.18544508516788483, 0.005608947481960058, 0.0, 0.0, 0.0], [0.07795794308185577, 0.07137893885374069, 0.008481243625283241, 0.01921277493238449, 0.004718676675111055, 0.0494823195040226, 0.18382816016674042, 0.005705954506993294, 0.007737711537629366, 0.004370236769318581, 0.00411682715639472, 0.14112423360347748, 0.0023503093980252743, 0.3764776289463043, 0.005067223682999611, 0.03798988461494446, 0.0, 0.0], [0.12597140669822693, 0.040298838168382645, 0.016384262591600418, 0.031656958162784576, 0.03442645072937012, 0.06895853579044342, 0.13709016144275665, 0.024084901437163353, 0.013447319157421589, 0.010974704287946224, 0.010508367791771889, 0.09749989211559296, 0.020512310788035393, 0.21704386174678802, 0.027156837284564972, 0.029781123623251915, 0.09420411288738251, 0.0], [0.05335082858800888, 0.07523690164089203, 0.0030619767494499683, 0.010878599248826504, 0.0032730987295508385, 0.07265091687440872, 0.19386699795722961, 0.0007781393360346556, 0.002776957117021084, 0.004187251906841993, 0.002809062832966447, 0.14389599859714508, 0.0016779270954430103, 0.13329580426216125, 0.001548180589452386, 0.013295060954988003, 0.28233417868614197, 0.0010821843752637506]], [[1.0, 0.0, 0.0, 0.0, 0.0, 0.0, 0.0, 0.0, 0.0, 0.0, 0.0, 0.0, 0.0, 0.0, 0.0, 0.0, 0.0, 0.0], [0.9641712307929993, 0.03582877665758133, 0.0, 0.0, 0.0, 0.0, 0.0, 0.0, 0.0, 0.0, 0.0, 0.0, 0.0, 0.0, 0.0, 0.0, 0.0, 0.0], [0.5088089108467102, 0.35822439193725586, 0.13296666741371155, 0.0, 0.0, 0.0, 0.0, 0.0, 0.0, 0.0, 0.0, 0.0, 0.0, 0.0, 0.0, 0.0, 0.0, 0.0], [0.3213155269622803, 0.2235388308763504, 0.36352479457855225, 0.09162082523107529, 0.0, 0.0, 0.0, 0.0, 0.0, 0.0, 0.0, 0.0, 0.0, 0.0, 0.0, 0.0, 0.0, 0.0], [0.22864201664924622, 0.12400560081005096, 0.21899405121803284, 0.16709542274475098, 0.2612629234790802, 0.0, 0.0, 0.0, 0.0, 0.0, 0.0, 0.0, 0.0, 0.0, 0.0, 0.0, 0.0, 0.0], [0.2087344527244568, 0.04002804309129715, 0.13227735459804535, 0.1120610162615776, 0.395817369222641, 0.11108172684907913, 0.0, 0.0, 0.0, 0.0, 0.0, 0.0, 0.0, 0.0, 0.0, 0.0, 0.0, 0.0], [0.11738306283950806, 0.023127960041165352, 0.09089043736457825, 0.16487890481948853, 0.19081591069698334, 0.24903738498687744, 0.163866326212883, 0.0, 0.0, 0.0, 0.0, 0.0, 0.0, 0.0, 0.0, 0.0, 0.0, 0.0], [0.0946212187409401, 0.0657348781824112, 0.07923572510480881, 0.08215273916721344, 0.0979609414935112, 0.0845789834856987, 0.0994647964835167, 0.39625075459480286, 0.0, 0.0, 0.0, 0.0, 0.0, 0.0, 0.0, 0.0, 0.0, 0.0], [0.06526384502649307, 0.022387908771634102, 0.01624191552400589, 0.016548853367567062, 0.05659380927681923, 0.04926859587430954, 0.11948692053556442, 0.4249410033226013, 0.2292672097682953, 0.0, 0.0, 0.0, 0.0, 0.0, 0.0, 0.0, 0.0, 0.0], [0.043829601258039474, 0.008817396126687527, 0.025459473952651024, 0.020979471504688263, 0.03118591010570526, 0.038614414632320404, 0.03418463096022606, 0.22607222199440002, 0.4196537435054779, 0.15120311081409454, 0.0, 0.0, 0.0, 0.0, 0.0, 0.0, 0.0, 0.0], [0.048465337604284286, 0.014247437007725239, 0.01598091423511505, 0.015908244997262955, 0.022084737196564674, 0.038249123841524124, 0.038577932864427567, 0.17252542078495026, 0.2050100564956665, 0.17977038025856018, 0.2491803914308548, 0.0, 0.0, 0.0, 0.0, 0.0, 0.0, 0.0], [0.039748288691043854, 0.008262831717729568, 0.011225990019738674, 0.006156839895993471, 0.023412462323904037, 0.02678614668548107, 0.05961194634437561, 0.1372784674167633, 0.11029625684022903, 0.1916743814945221, 0.2762037515640259, 0.10934261977672577, 0.0, 0.0, 0.0, 0.0, 0.0, 0.0], [0.041960954666137695, 0.006092972122132778, 0.009316674433648586, 0.005480300635099411, 0.01133430004119873, 0.013979431241750717, 0.04019080847501755, 0.07702426612377167, 0.09187662601470947, 0.0848713368177414, 0.1278630495071411, 0.17470207810401917, 0.3153071403503418, 0.0, 0.0, 0.0, 0.0, 0.0], [0.09503749758005142, 0.011501449160277843, 0.009416700340807438, 0.005861223209649324, 0.018372341990470886, 0.015179786831140518, 0.005178908351808786, 0.07599130272865295, 0.04954901337623596, 0.09344714879989624, 0.14587540924549103, 0.030281037092208862, 0.3945610523223877, 0.04974720627069473, 0.0, 0.0, 0.0, 0.0], [0.02526649460196495, 0.0060897027142345905, 0.006600968539714813, 0.004544243216514587, 0.005669247359037399, 0.011223722249269485, 0.010473220609128475, 0.03439711779356003, 0.04556501284241676, 0.02955769933760166, 0.045528944581747055, 0.0804835855960846, 0.1445181667804718, 0.21522976458072662, 0.33485209941864014, 0.0, 0.0, 0.0], [0.036440227180719376, 0.00792116578668356, 0.00578582426533103, 0.003589625470340252, 0.00672495923936367, 0.004120503552258015, 0.014076069928705692, 0.03014814481139183, 0.029075080528855324, 0.025415191426873207, 0.04661628231406212, 0.0487217977643013, 0.12221188843250275, 0.11393560469150543, 0.30403023958206177, 0.20118741691112518, 0.0, 0.0], [0.007483694702386856, 0.00094840198289603, 0.0006824282463639975, 0.00044802133925259113, 0.0014325674856081605, 0.004379224963486195, 0.002319034654647112, 0.004636446945369244, 0.002800951013341546, 0.006870480254292488, 0.006470291875302792, 0.0024386567529290915, 0.01931297779083252, 0.012445822358131409, 0.0482352077960968, 0.8697858452796936, 0.009310034103691578, 0.0], [0.012447482906281948, 0.002840776927769184, 0.0026706168428063393, 0.002345836954191327, 0.0017963339341804385, 0.0016359566943719983, 0.0017150515923276544, 0.005180669482797384, 0.011307655833661556, 0.006291602738201618, 0.008442830294370651, 0.010639202781021595, 0.0267037246376276, 0.03305736556649208, 0.07842234522104263, 0.3560398519039154, 0.1535821557044983, 0.28488054871559143]], [[1.0, 0.0, 0.0, 0.0, 0.0, 0.0, 0.0, 0.0, 0.0, 0.0, 0.0, 0.0, 0.0, 0.0, 0.0, 0.0, 0.0, 0.0], [0.9714248180389404, 0.028575116768479347, 0.0, 0.0, 0.0, 0.0, 0.0, 0.0, 0.0, 0.0, 0.0, 0.0, 0.0, 0.0, 0.0, 0.0, 0.0, 0.0], [0.6904527544975281, 0.08937803655862808, 0.22016921639442444, 0.0, 0.0, 0.0, 0.0, 0.0, 0.0, 0.0, 0.0, 0.0, 0.0, 0.0, 0.0, 0.0, 0.0, 0.0], [0.636296272277832, 0.09745616465806961, 0.2092427909374237, 0.05700482800602913, 0.0, 0.0, 0.0, 0.0, 0.0, 0.0, 0.0, 0.0, 0.0, 0.0, 0.0, 0.0, 0.0, 0.0], [0.1605069935321808, 0.04343925416469574, 0.14027567207813263, 0.15323404967784882, 0.5025440454483032, 0.0, 0.0, 0.0, 0.0, 0.0, 0.0, 0.0, 0.0, 0.0, 0.0, 0.0, 0.0, 0.0], [0.42432472109794617, 0.14775381982326508, 0.16739894449710846, 0.10852517187595367, 0.12695172429084778, 0.02504558116197586, 0.0, 0.0, 0.0, 0.0, 0.0, 0.0, 0.0, 0.0, 0.0, 0.0, 0.0, 0.0], [0.4470050632953644, 0.09809712320566177, 0.11391784250736237, 0.0941912904381752, 0.10847864300012589, 0.05140090733766556, 0.08690913021564484, 0.0, 0.0, 0.0, 0.0, 0.0, 0.0, 0.0, 0.0, 0.0, 0.0, 0.0], [0.13165554404258728, 0.010708156041800976, 0.05609017238020897, 0.03474722057580948, 0.09054971486330032, 0.011409222148358822, 0.009371734224259853, 0.655468225479126, 0.0, 0.0, 0.0, 0.0, 0.0, 0.0, 0.0, 0.0, 0.0, 0.0], [0.15559396147727966, 0.033039044588804245, 0.07213453948497772, 0.06945114582777023, 0.19041584432125092, 0.03557993844151497, 0.07362189888954163, 0.2746272087097168, 0.09553633630275726, 0.0, 0.0, 0.0, 0.0, 0.0, 0.0, 0.0, 0.0, 0.0], [0.08709900826215744, 0.024900227785110474, 0.08794169127941132, 0.06826560944318771, 0.17507359385490417, 0.04001535102725029, 0.010976264253258705, 0.311023086309433, 0.12202723324298859, 0.0726778581738472, 0.0, 0.0, 0.0, 0.0, 0.0, 0.0, 0.0, 0.0], [0.04303847625851631, 0.008335989899933338, 0.03829574212431908, 0.02992427907884121, 0.11740631610155106, 0.016795296221971512, 0.010346940718591213, 0.25370851159095764, 0.05681805685162544, 0.04561712220311165, 0.3797132968902588, 0.0, 0.0, 0.0, 0.0, 0.0, 0.0, 0.0], [0.21801906824111938, 0.07041678577661514, 0.05492356792092323, 0.03896937146782875, 0.07629300653934479, 0.05732107162475586, 0.11843732744455338, 0.06981886923313141, 0.05956730619072914, 0.07087761908769608, 0.10018140822649002, 0.06517457962036133, 0.0, 0.0, 0.0, 0.0, 0.0, 0.0], [0.03313836827874184, 0.01085782703012228, 0.026629477739334106, 0.03572068735957146, 0.10644111037254333, 0.014869059436023235, 0.010823849588632584, 0.20968374609947205, 0.04256866127252579, 0.04166213423013687, 0.25070810317993164, 0.03885841369628906, 0.1780385673046112, 0.0, 0.0, 0.0, 0.0, 0.0], [0.2915368676185608, 0.023121045902371407, 0.044644683599472046, 0.03187603875994682, 0.037746116518974304, 0.03936051204800606, 0.06315746903419495, 0.05660683289170265, 0.03867368772625923, 0.07163465768098831, 0.06706175208091736, 0.08266137540340424, 0.07324234396219254, 0.07867661863565445, 0.0, 0.0, 0.0, 0.0], [0.028093352913856506, 0.005341087002307177, 0.027695484459400177, 0.02512623555958271, 0.07975468784570694, 0.013304321095347404, 0.008349580690264702, 0.18518325686454773, 0.044300977140665054, 0.025451866909861565, 0.14227411150932312, 0.02310662530362606, 0.10540800541639328, 0.014617282897233963, 0.27199310064315796, 0.0, 0.0, 0.0], [0.07970058917999268, 0.023759523406624794, 0.017070066183805466, 0.019732307642698288, 0.0647687017917633, 0.03156568855047226, 0.03224135935306549, 0.10172784328460693, 0.02071690931916237, 0.021017596125602722, 0.09601031988859177, 0.037191249430179596, 0.06441222876310349, 0.09970484673976898, 0.10804636776447296, 0.18233442306518555, 0.0, 0.0], [0.22239641845226288, 0.05833300203084946, 0.027935421094298363, 0.026853565126657486, 0.03375745192170143, 0.01385300699621439, 0.07518517225980759, 0.06253377348184586, 0.02769750915467739, 0.024388106539845467, 0.04690035060048103, 0.06407729536294937, 0.04390599951148033, 0.08560699224472046, 0.06983774900436401, 0.07910631597042084, 0.0376318097114563, 0.0], [0.041958440095186234, 0.0032350923866033554, 0.014551802538335323, 0.010868229903280735, 0.02456698939204216, 0.004032037686556578, 0.003382522612810135, 0.19050373136997223, 0.018225541338324547, 0.009532862342894077, 0.06901142746210098, 0.010489529930055141, 0.04501914605498314, 0.00839928537607193, 0.13456420600414276, 0.05404280871152878, 0.00965652521699667, 0.34795987606048584]], [[1.0, 0.0, 0.0, 0.0, 0.0, 0.0, 0.0, 0.0, 0.0, 0.0, 0.0, 0.0, 0.0, 0.0, 0.0, 0.0, 0.0, 0.0], [0.9445921182632446, 0.05540792644023895, 0.0, 0.0, 0.0, 0.0, 0.0, 0.0, 0.0, 0.0, 0.0, 0.0, 0.0, 0.0, 0.0, 0.0, 0.0, 0.0], [0.757879912853241, 0.11658301204442978, 0.12553717195987701, 0.0, 0.0, 0.0, 0.0, 0.0, 0.0, 0.0, 0.0, 0.0, 0.0, 0.0, 0.0, 0.0, 0.0, 0.0], [0.6917117238044739, 0.1259329915046692, 0.134999617934227, 0.04735571891069412, 0.0, 0.0, 0.0, 0.0, 0.0, 0.0, 0.0, 0.0, 0.0, 0.0, 0.0, 0.0, 0.0, 0.0], [0.5758692026138306, 0.08366672694683075, 0.15181945264339447, 0.0718342587351799, 0.1168103963136673, 0.0, 0.0, 0.0, 0.0, 0.0, 0.0, 0.0, 0.0, 0.0, 0.0, 0.0, 0.0, 0.0], [0.5814806222915649, 0.09965018182992935, 0.10509578883647919, 0.07821963727474213, 0.1007344052195549, 0.034819427877664566, 0.0, 0.0, 0.0, 0.0, 0.0, 0.0, 0.0, 0.0, 0.0, 0.0, 0.0, 0.0], [0.6010664105415344, 0.060709644109010696, 0.11665825545787811, 0.062173858284950256, 0.07781417667865753, 0.05987677350640297, 0.021700866520404816, 0.0, 0.0, 0.0, 0.0, 0.0, 0.0, 0.0, 0.0, 0.0, 0.0, 0.0], [0.41715848445892334, 0.08558234572410583, 0.11807164549827576, 0.06279459595680237, 0.08169565349817276, 0.06122199818491936, 0.06724514067173004, 0.10623012483119965, 0.0, 0.0, 0.0, 0.0, 0.0, 0.0, 0.0, 0.0, 0.0, 0.0], [0.38366591930389404, 0.0833466574549675, 0.08469066023826599, 0.04483793303370476, 0.07776433229446411, 0.052645113319158554, 0.0951591432094574, 0.10282157361507416, 0.07506868988275528, 0.0, 0.0, 0.0, 0.0, 0.0, 0.0, 0.0, 0.0, 0.0], [0.32418113946914673, 0.06483853608369827, 0.08748079836368561, 0.05034307390451431, 0.07312344014644623, 0.06450343132019043, 0.0690055787563324, 0.0943203791975975, 0.08458613604307175, 0.08761747181415558, 0.0, 0.0, 0.0, 0.0, 0.0, 0.0, 0.0, 0.0], [0.2899794280529022, 0.0499049574136734, 0.08435457199811935, 0.04539177939295769, 0.07304760813713074, 0.04790889471769333, 0.0496651716530323, 0.08415326476097107, 0.07934252172708511, 0.08770179003477097, 0.10855003446340561, 0.0, 0.0, 0.0, 0.0, 0.0, 0.0, 0.0], [0.3434658348560333, 0.055759869515895844, 0.07845515757799149, 0.06731279194355011, 0.06412577629089355, 0.07287497073411942, 0.03924797102808952, 0.07021892815828323, 0.07374262064695358, 0.05688874423503876, 0.07152118533849716, 0.00638619065284729, 0.0, 0.0, 0.0, 0.0, 0.0, 0.0], [0.25444573163986206, 0.04055402800440788, 0.07099621742963791, 0.036186445504426956, 0.058273665606975555, 0.04166892543435097, 0.046891361474990845, 0.07106832414865494, 0.0682995617389679, 0.07574369758367538, 0.0953974723815918, 0.051022473722696304, 0.08945204317569733, 0.0, 0.0, 0.0, 0.0, 0.0], [0.4011993408203125, 0.04020809382200241, 0.05799312889575958, 0.046331021934747696, 0.04564480856060982, 0.024162335321307182, 0.060526348650455475, 0.05945722386240959, 0.05133790895342827, 0.045251574367284775, 0.0601562038064003, 0.04735437408089638, 0.05672746151685715, 0.0036501209251582623, 0.0, 0.0, 0.0, 0.0], [0.2307051420211792, 0.04371631145477295, 0.06331465393304825, 0.03650874271988869, 0.04669410362839699, 0.038458846509456635, 0.04239761829376221, 0.0626385435461998, 0.05969373136758804, 0.062015026807785034, 0.07601753622293472, 0.04268943890929222, 0.07465793192386627, 0.04119687154889107, 0.07929544895887375, 0.0, 0.0, 0.0], [0.21837012469768524, 0.041938215494155884, 0.05609480291604996, 0.04206828027963638, 0.04462210834026337, 0.04209606349468231, 0.049139201641082764, 0.06027008965611458, 0.05302628502249718, 0.042821403592824936, 0.06398515403270721, 0.03783099353313446, 0.06717699766159058, 0.05654982477426529, 0.08023671060800552, 0.043773721903562546, 0.0, 0.0], [0.3355640470981598, 0.042830321937799454, 0.05669524520635605, 0.046567659825086594, 0.033949315547943115, 0.035272255539894104, 0.03209507837891579, 0.055678460747003555, 0.049548812210559845, 0.04245542734861374, 0.0516183115541935, 0.026304680854082108, 0.049449387937784195, 0.03763476386666298, 0.061734408140182495, 0.03259409964084625, 0.010007722303271294, 0.0], [0.19944339990615845, 0.04295724257826805, 0.05413653329014778, 0.03202494978904724, 0.037216994911432266, 0.03551900386810303, 0.039566829800605774, 0.05216715857386589, 0.05204761028289795, 0.0516594797372818, 0.05281781777739525, 0.03427623212337494, 0.05329924076795578, 0.04294061288237572, 0.062484171241521835, 0.04411633685231209, 0.04600642994046211, 0.06731992214918137]], [[1.0, 0.0, 0.0, 0.0, 0.0, 0.0, 0.0, 0.0, 0.0, 0.0, 0.0, 0.0, 0.0, 0.0, 0.0, 0.0, 0.0, 0.0], [0.7659654021263123, 0.23403464257717133, 0.0, 0.0, 0.0, 0.0, 0.0, 0.0, 0.0, 0.0, 0.0, 0.0, 0.0, 0.0, 0.0, 0.0, 0.0, 0.0], [0.5032697319984436, 0.1182616725564003, 0.3784685730934143, 0.0, 0.0, 0.0, 0.0, 0.0, 0.0, 0.0, 0.0, 0.0, 0.0, 0.0, 0.0, 0.0, 0.0, 0.0], [0.38640791177749634, 0.08746501058340073, 0.3129759132862091, 0.21315118670463562, 0.0, 0.0, 0.0, 0.0, 0.0, 0.0, 0.0, 0.0, 0.0, 0.0, 0.0, 0.0, 0.0, 0.0], [0.5120733976364136, 0.061191901564598083, 0.13100647926330566, 0.06795727461576462, 0.2277708649635315, 0.0, 0.0, 0.0, 0.0, 0.0, 0.0, 0.0, 0.0, 0.0, 0.0, 0.0, 0.0, 0.0], [0.3809473514556885, 0.06828534603118896, 0.10634776204824448, 0.06304129213094711, 0.07849617302417755, 0.30288204550743103, 0.0, 0.0, 0.0, 0.0, 0.0, 0.0, 0.0, 0.0, 0.0, 0.0, 0.0, 0.0], [0.3698023855686188, 0.07431966811418533, 0.11948703229427338, 0.055765602737665176, 0.07243826985359192, 0.05015198513865471, 0.2580350637435913, 0.0, 0.0, 0.0, 0.0, 0.0, 0.0, 0.0, 0.0, 0.0, 0.0, 0.0], [0.34085866808891296, 0.0964367687702179, 0.13223257660865784, 0.07063042372465134, 0.078359454870224, 0.061604857444763184, 0.07273925840854645, 0.1471380591392517, 0.0, 0.0, 0.0, 0.0, 0.0, 0.0, 0.0, 0.0, 0.0, 0.0], [0.168723464012146, 0.08855438977479935, 0.3107351064682007, 0.08784178644418716, 0.04522886127233505, 0.022880397737026215, 0.031530290842056274, 0.04354279488325119, 0.20096291601657867, 0.0, 0.0, 0.0, 0.0, 0.0, 0.0, 0.0, 0.0, 0.0], [0.24955756962299347, 0.05519937351346016, 0.11033636331558228, 0.04866262897849083, 0.06568194180727005, 0.05445152893662453, 0.05296820029616356, 0.0791853815317154, 0.08022364974021912, 0.203733429312706, 0.0, 0.0, 0.0, 0.0, 0.0, 0.0, 0.0, 0.0], [0.22398371994495392, 0.05147824063897133, 0.11697100102901459, 0.05621678754687309, 0.09921640157699585, 0.03956805169582367, 0.04536551237106323, 0.09308885037899017, 0.08460301905870438, 0.06112786382436752, 0.12838061153888702, 0.0, 0.0, 0.0, 0.0, 0.0, 0.0, 0.0], [0.13212759792804718, 0.04266344755887985, 0.06595200300216675, 0.04413844272494316, 0.05737254023551941, 0.045083656907081604, 0.17540708184242249, 0.062066107988357544, 0.051539864391088486, 0.033279165625572205, 0.056557320058345795, 0.23381273448467255, 0.0, 0.0, 0.0, 0.0, 0.0, 0.0], [0.19969762861728668, 0.034113239496946335, 0.07550113648176193, 0.04606585204601288, 0.08102019131183624, 0.029550202190876007, 0.04126705974340439, 0.07580868154764175, 0.06049685552716255, 0.04542402923107147, 0.09373068064451218, 0.04286714270710945, 0.1744573712348938, 0.0, 0.0, 0.0, 0.0, 0.0], [0.2276812493801117, 0.04032013937830925, 0.05511520057916641, 0.025348544120788574, 0.048703111708164215, 0.03710975497961044, 0.08789113163948059, 0.055458903312683105, 0.03762607276439667, 0.03395700827240944, 0.05095837637782097, 0.04411088675260544, 0.03984585031867027, 0.2158738076686859, 0.0, 0.0, 0.0, 0.0], [0.1625867635011673, 0.03584657609462738, 0.07203947007656097, 0.04303111508488655, 0.0638543963432312, 0.03419157490134239, 0.04536552354693413, 0.08082310110330582, 0.06568852066993713, 0.05263325944542885, 0.09354592859745026, 0.04188239946961403, 0.08405424654483795, 0.032346710562705994, 0.09211033582687378, 0.0, 0.0, 0.0], [0.1568811982870102, 0.03016863390803337, 0.04261934757232666, 0.02686947025358677, 0.05475512146949768, 0.024860931560397148, 0.053646866232156754, 0.054810866713523865, 0.036994948983192444, 0.029788915067911148, 0.06649588793516159, 0.04388231784105301, 0.05691537633538246, 0.05898764356970787, 0.06929239630699158, 0.19303002953529358, 0.0, 0.0], [0.14203938841819763, 0.05078825727105141, 0.0502699576318264, 0.04187758266925812, 0.02966909296810627, 0.030896347016096115, 0.05563666298985481, 0.05339490994811058, 0.04301034286618233, 0.024643458425998688, 0.050806935876607895, 0.035949286073446274, 0.03768661618232727, 0.06252726167440414, 0.04780830442905426, 0.031743887811899185, 0.21125167608261108, 0.0], [0.12077532708644867, 0.037117648869752884, 0.044784002006053925, 0.03047366254031658, 0.03385203704237938, 0.039832618087530136, 0.04791637510061264, 0.08900751173496246, 0.04824948310852051, 0.04254307225346565, 0.061274681240320206, 0.04326106607913971, 0.06101449206471443, 0.04346250370144844, 0.07402939349412918, 0.03138978034257889, 0.044188544154167175, 0.10682788491249084]], [[1.0, 0.0, 0.0, 0.0, 0.0, 0.0, 0.0, 0.0, 0.0, 0.0, 0.0, 0.0, 0.0, 0.0, 0.0, 0.0, 0.0, 0.0], [0.8221821784973145, 0.17781783640384674, 0.0, 0.0, 0.0, 0.0, 0.0, 0.0, 0.0, 0.0, 0.0, 0.0, 0.0, 0.0, 0.0, 0.0, 0.0, 0.0], [0.7543289065361023, 0.1807943433523178, 0.06487678736448288, 0.0, 0.0, 0.0, 0.0, 0.0, 0.0, 0.0, 0.0, 0.0, 0.0, 0.0, 0.0, 0.0, 0.0, 0.0], [0.682001531124115, 0.1787784844636917, 0.039534684270620346, 0.09968528896570206, 0.0, 0.0, 0.0, 0.0, 0.0, 0.0, 0.0, 0.0, 0.0, 0.0, 0.0, 0.0, 0.0, 0.0], [0.636059045791626, 0.1496427208185196, 0.04119661822915077, 0.07091491669416428, 0.10218668729066849, 0.0, 0.0, 0.0, 0.0, 0.0, 0.0, 0.0, 0.0, 0.0, 0.0, 0.0, 0.0, 0.0], [0.35887736082077026, 0.20659396052360535, 0.07871811091899872, 0.09083102643489838, 0.119392991065979, 0.14558658003807068, 0.0, 0.0, 0.0, 0.0, 0.0, 0.0, 0.0, 0.0, 0.0, 0.0, 0.0, 0.0], [0.3920500874519348, 0.18546162545681, 0.04359130561351776, 0.0806460976600647, 0.07922155410051346, 0.08760661631822586, 0.13142268359661102, 0.0, 0.0, 0.0, 0.0, 0.0, 0.0, 0.0, 0.0, 0.0, 0.0, 0.0], [0.40465113520622253, 0.10507383942604065, 0.025448447093367577, 0.04836832359433174, 0.06836144626140594, 0.08734272420406342, 0.11359591782093048, 0.1471581608057022, 0.0, 0.0, 0.0, 0.0, 0.0, 0.0, 0.0, 0.0, 0.0, 0.0], [0.36059388518333435, 0.10152633488178253, 0.02351701445877552, 0.03716424107551575, 0.083246149122715, 0.09074591100215912, 0.0908399373292923, 0.18789102137088776, 0.024475475773215294, 0.0, 0.0, 0.0, 0.0, 0.0, 0.0, 0.0, 0.0, 0.0], [0.43981045484542847, 0.07739671319723129, 0.020822202786803246, 0.04333166405558586, 0.047848451882600784, 0.0672602504491806, 0.0685555636882782, 0.09898073226213455, 0.017673620954155922, 0.11832035332918167, 0.0, 0.0, 0.0, 0.0, 0.0, 0.0, 0.0, 0.0], [0.33915725350379944, 0.08062472939491272, 0.02037559449672699, 0.040751904249191284, 0.056726399809122086, 0.05974692851305008, 0.08865464478731155, 0.1002984344959259, 0.019042080268263817, 0.10427417606115341, 0.09034791588783264, 0.0, 0.0, 0.0, 0.0, 0.0, 0.0, 0.0], [0.34427422285079956, 0.08810516446828842, 0.02514316700398922, 0.036429304629564285, 0.0476677305996418, 0.04978671297430992, 0.08532896637916565, 0.08633027225732803, 0.021865976974368095, 0.07533413916826248, 0.05948856845498085, 0.08024574816226959, 0.0, 0.0, 0.0, 0.0, 0.0, 0.0], [0.2965153455734253, 0.06883449107408524, 0.018442202359437943, 0.02879215218126774, 0.04295432195067406, 0.04884793609380722, 0.07028187066316605, 0.08013097196817398, 0.01571015827357769, 0.09639677405357361, 0.07902055978775024, 0.06829333305358887, 0.08577993512153625, 0.0, 0.0, 0.0, 0.0, 0.0], [0.20863617956638336, 0.08858383446931839, 0.016066325828433037, 0.028494715690612793, 0.05943462252616882, 0.06615351140499115, 0.058780692517757416, 0.1006823182106018, 0.014755476266145706, 0.09996633976697922, 0.07148081809282303, 0.07274457812309265, 0.06942103803157806, 0.04479951784014702, 0.0, 0.0, 0.0, 0.0], [0.24284589290618896, 0.06141949072480202, 0.01430884376168251, 0.03157893940806389, 0.03712351992726326, 0.05062495917081833, 0.059870701283216476, 0.07740683853626251, 0.01241393480449915, 0.09174458682537079, 0.067253477871418, 0.06965113431215286, 0.06716715544462204, 0.03310772404074669, 0.0834827721118927, 0.0, 0.0, 0.0], [0.18385739624500275, 0.0711326077580452, 0.014923100359737873, 0.03989959880709648, 0.046781688928604126, 0.09736522287130356, 0.0792449489235878, 0.043495651334524155, 0.014507059007883072, 0.09499716758728027, 0.03679399564862251, 0.11024633795022964, 0.04076934605836868, 0.044064879417419434, 0.057118773460388184, 0.02480218932032585, 0.0, 0.0], [0.16232183575630188, 0.07599212229251862, 0.017153268679976463, 0.035800132900476456, 0.06290682405233383, 0.05635225772857666, 0.048414263874292374, 0.08658657968044281, 0.013927050866186619, 0.0815761461853981, 0.059441667050123215, 0.08200085163116455, 0.06307641416788101, 0.05440531298518181, 0.04725700989365578, 0.023356139659881592, 0.02943217009305954, 0.0], [0.23710623383522034, 0.0640338584780693, 0.016111623495817184, 0.03238006308674812, 0.03941220045089722, 0.046669166535139084, 0.06324019283056259, 0.0670844092965126, 0.01232927106320858, 0.06642380356788635, 0.04544408246874809, 0.06020741909742355, 0.04667472839355469, 0.03199595585465431, 0.04711533337831497, 0.012473034672439098, 0.04543522000312805, 0.06586332619190216]]], \"negativeColor\": \"#FF0000\", \"positiveColor\": \"#00FF00\", \"tokens\": [\"<|endoftext|>\", \"Hi\", \" I\", \" am\", \" an\", \" pragmatic\", \" programmer\", \".\", \" I\", \" like\", \" to\", \" program\", \" in\", \" Python\", \" and\", \" C\", \"++\", \".\"], \"maskUpperTri\": true}\n",
       "    )\n",
       "    </script>"
      ],
      "text/plain": [
       "<circuitsvis.utils.render.RenderedHTML at 0x2809a2290>"
      ]
     },
     "execution_count": 46,
     "metadata": {},
     "output_type": "execute_result"
    }
   ],
   "source": [
    "# We can use the attention scores to visualize the attention patterns for the first layer of the model\n",
    "cv.attention.attention_heads(tokens=model_str_tokens, attention=attention_scores, mask_upper_tri=True, negative_color=\"#FF0000\", positive_color=\"#00FF00\")"
   ]
  },
  {
   "cell_type": "code",
   "execution_count": 17,
   "metadata": {},
   "outputs": [
    {
     "name": "stdout",
     "output_type": "stream",
     "text": [
      "tensor(3.4370, grad_fn=<NegBackward0>)\n",
      "Loss as average prob tensor(0.0322, grad_fn=<ExpBackward0>)\n",
      "Loss as 'uniform over this many variables' tensor(31.0946, grad_fn=<ExpBackward0>)\n",
      "Uniform loss over the vocab 10.82490511970208\n"
     ]
    }
   ],
   "source": [
    "def lm_cross_entropy_loss(logits, tokens):\n",
    "    # Measure next token loss\n",
    "    # Logits have shape [batch, position, d_vocab]\n",
    "    # Tokens have shape [batch, position]\n",
    "    log_probs = logits.log_softmax(dim=-1)\n",
    "    pred_log_probs = log_probs[:, :-1].gather(dim=-1, index=tokens[:, 1:].unsqueeze(-1)).squeeze(-1)\n",
    "    return -pred_log_probs.mean()\n",
    "loss = lm_cross_entropy_loss(demo_logits, test_tokens)\n",
    "print(loss)\n",
    "print(\"Loss as average prob\", (-loss).exp())\n",
    "print(\"Loss as 'uniform over this many variables'\", (loss).exp())\n",
    "print(\"Uniform loss over the vocab\", math.log(our_model.cfg.d_vocab))"
   ]
  },
  {
   "cell_type": "markdown",
   "metadata": {},
   "source": [
    "### Basic training\n",
    "\n",
    "- Once you have defined your architecture you'll have to define your own desired custom training loop using PyTorch.\n",
    "    - Perhaps something we will touch on during another call."
   ]
  },
  {
   "cell_type": "markdown",
   "metadata": {},
   "source": [
    "### Using pre-existing models\n",
    "\n",
    "- Main libraries used:\n",
    "    - Transformer, tokenizer\n",
    "- HuggingFace can be thought of as a wide ecosystem which facilitates the open source nature of modern AI/ML\n",
    "    - Can do many things on huggingface but we will primarily touch on using their collections of models for tasks."
   ]
  },
  {
   "cell_type": "markdown",
   "metadata": {},
   "source": [
    "#### Working with GPT 2\n",
    "\n",
    " - As we'll see below it is much easier working with GPT 2 out of the box compared to trying to build the model from scratch."
   ]
  },
  {
   "cell_type": "code",
   "execution_count": null,
   "metadata": {},
   "outputs": [],
   "source": [
    "from transformers import AutoModelForCausalLM, AutoTokenizer\n",
    "\n",
    "# Initialize tokenizer and model\n",
    "gpt2_tokenizer = AutoTokenizer.from_pretrained(\"gpt2\")\n",
    "gpt2_model = AutoModelForCausalLM.from_pretrained(\"gpt2\")\n",
    "\n",
    "input_text = 'Hello! My name is '\n",
    "\n",
    "\n",
    "encoded_input = gpt2_tokenizer(input_text, return_tensors='pt')\n",
    "output = gpt2_model.generate(**encoded_input,\n",
    "                            num_beams=5,\n",
    "                            max_new_tokens=10,\n",
    "                            num_return_sequences=2,\n",
    "                            top_k=50,\n",
    "                            top_p=0.95,\n",
    "                            temperature=0.7,\n",
    "                            do_sample=True\n",
    "                        )\n",
    "\n",
    "# prints out generated text to the console\n",
    "for generated_ids in output:\n",
    "    generated_text = gpt2_tokenizer.decode(generated_ids, skip_special_tokens=True)\n",
    "    print(generated_text)"
   ]
  }
 ],
 "metadata": {
  "kernelspec": {
   "display_name": "llm_playaround",
   "language": "python",
   "name": "llm_playaround"
  },
  "language_info": {
   "codemirror_mode": {
    "name": "ipython",
    "version": 3
   },
   "file_extension": ".py",
   "mimetype": "text/x-python",
   "name": "python",
   "nbconvert_exporter": "python",
   "pygments_lexer": "ipython3",
   "version": "3.11.1"
  }
 },
 "nbformat": 4,
 "nbformat_minor": 2
}
